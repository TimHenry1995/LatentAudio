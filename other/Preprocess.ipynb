{
  "cells": [
    {
      "cell_type": "markdown",
      "metadata": {},
      "source": [
        "# Latent Audio\n",
        "## Disentangling Yamnet's latent representations into materials and actions"
      ]
    },
    {
      "cell_type": "markdown",
      "metadata": {},
      "source": [
        "The artificial neural network Yamnet takes sound spectrograms as input and classifies them according to approximately 550 classes. Yamnet's latent space appears to be encode the materials and actions involved in making a sound. In order to understand these latent representaitons, the current notebook explores the latent space and then disentangles it.\n",
        "\n",
        "Latent space exploration involves \n",
        "- projection with principal component analysis (PCA),\n",
        "- t-distributed stochastic neighbor embeddings (t-SNE),\n",
        "- classification of latent representations as materials and actions using k-nearest neighbors (KNN) and \n",
        "- disententanglement with a flow model.\n",
        "\n",
        "Latent space manipulation involves\n",
        "- invertible projection with PCA. This requires a complete PCA model whose output and input dimensionality is the same which is processing intensive to set up.\n",
        "- disentanglement with a flow model. This flow model needs to be invertible. The one listed for exploration will work as it is.\n",
        "\n",
        "The preparation for these two analyses is similar in many ways. They both require the conversion of data from its waveform domain to Yament's latent representation for each layer and the projection to manageable dimensionality, e.g. 64 dimensions using PCA. Note that computing a full PCA model is resource intensive and a small model with e.g. 64 dimensions will suffice for most layers. For the majority of layers, the original latent space representations that are of higher dimensionality than the projection are also no longer needed after projection. Only the layers whose latent space shall be manipulated need the full PCA model for invertability and need the original latent space representation. In the curernt study, this only applies to layer 9. The below diagram illustrates this pipeline. Containers represent entire data sets, square represent single data points (i.e. a single sound), scripts refer to code snippets and rectangles represent models. While $W_1$ is the original waveform data, $W_2$ is the augmented one. $Z'$ is Yamnet's latent representation and is obtained for every layer. $Z$ is the latent space representation afgter projection to a lower dimension. $Z_a,Z_b$ form a pair of two sounds whose similarity is indicated for actions and materials in $Y_{ab}$. $Z,Y$ correspond to a single sound (in projected latent representation) and its material/ action label.\n",
        "\n",
        "Important: The conversion from waveform to projected latent Yament representation requires several hours to be executed and memory as well as disk storage demands can temporarily peak."
      ]
    },
    {
      "cell_type": "markdown",
      "metadata": {},
      "source": [
        "![alt text](Pipeline.png)"
      ]
    },
    {
      "cell_type": "markdown",
      "metadata": {
        "id": "s17TFw2ZKSlb"
      },
      "source": [
        "# Pre-processing"
      ]
    },
    {
      "cell_type": "code",
      "execution_count": 1,
      "metadata": {
        "colab": {
          "base_uri": "https://localhost:8080/"
        },
        "id": "3qnjNPyAf7OK",
        "outputId": "489189f1-9ee4-4b75-c27c-33591f460d78"
      },
      "outputs": [
        {
          "name": "stdout",
          "output_type": "stream",
          "text": [
            "Layer 9\n",
            "Running script to create scalers and PCA model for latent yamnet\n",
            "\tLoading sample of latent data Completed. Shape == [instance count, dimensionality] == (13516, 12288)\n",
            "\tFitting Pre-PCA Standard Scaler to sample Completed\n",
            "\tFitting 12288-dimensional PCA to sample Completed\n",
            "\tFitting Post-PCA Standard Scaler to sample Completed\n",
            "\tRun Completed\n"
          ]
        }
      ],
      "source": [
        "from latent_audio.scripts import audio_to_latent_yamnet as aud2lat, create_scalers_and_PCA_model_for_latent_yamnet as lat2pca, latent_yamnet_to_calibration_data_set as lat2cal\n",
        "import shutil, os\n",
        "\n",
        "full_dim_layer_indices = [9]\n",
        "reduced_target_dimensionality = 64\n",
        "\n",
        "for layer_index in range(14):\n",
        "    print(f'Layer {layer_index}')\n",
        "    # Extract data\n",
        "    aud2lat.run(layer_index=layer_index) # Converts audio to latent yamnet representation of original dimensionality\n",
        "    lat2pca.run(layer_index=layer_index, target_dimensionality=None if layer_index in full_dim_layer_indices else reduced_target_dimensionality) # Creates standard scalers and PCA for projection to lower dimensional space\n",
        "    lat2cal.run(layer_index=layer_index, dimensionality=reduced_target_dimensionality) # Performs the projection (this will be needed for all layers)\n",
        "\n",
        "    # Delete latent representations of original dimensionality to save disk storage\n",
        "    if layer_index not in full_dim_layer_indices:\n",
        "        shutil.rmtree(os.path.join(\"data\",\"latent yamnet\",\"original\",f\"Layer {layer_index}\"))"
      ]
    }
  ],
  "metadata": {
    "colab": {
      "provenance": []
    },
    "kernelspec": {
      "display_name": "Python 3",
      "name": "python3"
    },
    "language_info": {
      "codemirror_mode": {
        "name": "ipython",
        "version": 3
      },
      "file_extension": ".py",
      "mimetype": "text/x-python",
      "name": "python",
      "nbconvert_exporter": "python",
      "pygments_lexer": "ipython3",
      "version": "3.10.14"
    }
  },
  "nbformat": 4,
  "nbformat_minor": 0
}
