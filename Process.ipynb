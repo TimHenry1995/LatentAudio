{
 "cells": [
  {
   "cell_type": "markdown",
   "metadata": {},
   "source": [
    "# Installation\n",
    "Instructions for installation of project dependencies can be found in the Installation.ipynb notebook. If you are running the code in your code editor on your local machine, then it will suffice to follow the instructions in that notebook once. If you are using google Colab, then you will get a different runtime for the installation notebook than for this notebook. You will need to perform the relevant installation steps here again."
   ]
  },
  {
   "cell_type": "markdown",
   "metadata": {},
   "source": [
    "# Pre-processing\n",
    "The preprocessing converts our custom audio dataset from its waveform to its layerwise Yamnet representation. If you want to verify or adjust the standard preprocessing, then you should follow the instructions in the Preprocess.ipynb notebook. If you want to start your analysis from the same starting point as the accompanying paper, then you can simply follow the below instructions. "
   ]
  },
  {
   "cell_type": "markdown",
   "metadata": {},
   "source": [
    "# Processing\n",
    "The processing involves latent space exploration and manipulation. \n",
    "\n",
    "Latent space exploration involves \n",
    "- projection with principal component analysis (PCA),\n",
    "- t-distributed stochastic neighbor embeddings (t-SNE),\n",
    "- classification of latent representations as materials and actions using k-nearest neighbors (KNN) and \n",
    "- disententanglement with a flow model.\n",
    "\n",
    "Latent space manipulation involves\n",
    "- invertible projection with PCA. This requires a complete PCA model whose output and input dimensionality is the same which is processing intensive to set up.\n",
    "- disentanglement with a flow model. This flow model needs to be invertible. The one listed for exploration will work as it is.\n",
    "\n"
   ]
  },
  {
   "cell_type": "markdown",
   "metadata": {},
   "source": [
    "## Latent Space exploration"
   ]
  },
  {
   "cell_type": "code",
   "execution_count": null,
   "metadata": {},
   "outputs": [],
   "source": []
  }
 ],
 "metadata": {
  "language_info": {
   "name": "python"
  }
 },
 "nbformat": 4,
 "nbformat_minor": 2
}
