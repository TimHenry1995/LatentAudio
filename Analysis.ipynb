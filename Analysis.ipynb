{
 "cells": [
  {
   "cell_type": "markdown",
   "id": "8069ccc6",
   "metadata": {},
   "source": [
    "# Latent Audio\n",
    "\n",
    "The goal of this work is to disentangle the latent space of sound-event recognition model [Yamnet](https://www.tensorflow.org/hub/tutorials/yamnet) into materials and actions. The data consists of 1-second long sound snippets for which it is known which material and action was involved in making the sound. Yamnet is a 14-layer convolutional neural network that maps a sound's spectrogram to 521 common-sense auditory event classes. The below code will guide the user through our analysis. For detailed explanations of our experiments, please refer to our award-winning [research paper](https://papers.ssrn.com/sol3/papers.cfm?abstract_id=4979651)."
   ]
  },
  {
   "cell_type": "markdown",
   "id": "8a449aa8",
   "metadata": {},
   "source": [
    "## Installation\n",
    "The code for this project has been run successfully on Windows, Intel-based Mac and Linux machines that are capable of running Python 3.9 with tensorflow 2.9. Tests on Apple Silicon were unsuccesful and users are thus encouraged to switch platform, e.g. to [Google Colab](https://colab.google). It is recommended that you do not simply run all code cells, but read step by step what each cell does and only execute it as described in the accompanying text cells. If you are on your local machine, you will not actually need any code cells from here, but instead run the referenced scripts manually. If you are on Colab, then you will need to use the code cells in order to run these scripts from within the notebook. For the start, it is enough to simply run the scripts with their default configurations. Yet, once you are familiar with the overall procedure of the analysis, you are encouraged to also look at the corresponding scripts to learn more about their implementation. You can also make changes to them if needed. Since LatentAudio is merely a collection of scripts and not a built Python package, any changes made to the scripts will have immediate effect and thus no rebuilding from source is necessary."
   ]
  },
  {
   "cell_type": "markdown",
   "id": "4dd6a046",
   "metadata": {},
   "source": [
    "### Local Machine (Windows or Intel-based Mac)"
   ]
  },
  {
   "cell_type": "markdown",
   "id": "42091258",
   "metadata": {},
   "source": [
    "**Workspace:** Make sure you have a code editor such as [Visual Studio Code](https://code.visualstudio.com) with Python support as well as the package managers [Conda](https://www.anaconda.com) and [Git](https://desktop.github.com/download/) installed. Then, open your code editor and set its project folder to something convenient. Next, open the code editor's terminal, typically using a top left menu option.\n",
    "\n",
    "**Conda Environment:** It is recommended to create a custom conda environment for this project and install all required software packages in there. Here is the terminal command:\n",
    "```\n",
    "conda create -n \"latent_audio_env\" python=3.9 ipython\n",
    "conda activate latent_audio_env\n",
    "```\n",
    "Then, verify that the `latent_audio_env` conda environemnt was actually activated using the command `conda info --envs` and making sure that a star (*) is next to latent_audio_env in the printed list.\n",
    "\n",
    "**Download Project Folder:** Now, we download the LatentAudio project folder from Github. This may take up to 10 minutes because the data used for the analysis needs to be downloaded, too. Note that this folder will contain a copy of this notebook, but we recommend you keep using the current notebook such that the paths to the Python scripts located in the LatentAudio folder can be found more easily.\n",
    "\n",
    "```\n",
    "git clone https://github.com/TimHenry1995/LatentAudio.git\n",
    "```\n",
    "\n",
    "**Install packages:** We can install most of its required packages automatically using the pip manager:\n",
    "\n",
    "```\n",
    "cd LatentAudio\n",
    "python -m pip install -r requirements.txt\n",
    "cd ..\n",
    "```\n",
    "It is important that the line `cd ..` is executed after installation succeeded, because otherwise, this notebook will not find the paths to the Python scripts of LatentAudio.\n",
    "There are two packages called [pysndfx](https://pypi.org/project/pysndfx/) and [SoX](https://sourceforge.net/projects/sox/) that cannot be installed automatically with the above command. Installing them is only needed in case you want to adjust the default data augmentation or augment your own data with our script. Since the installation of these packages can be difficult, it is only explained in the corresponding section on data augmentation later in this notebook. For now, you can simply rely on the augmented data we provide as part of the downloaded github repository.\n",
    "\n",
    "**Jupyter Kernel:** Make sure you select the jupyter kernel (latent_audio_env) of this environment for this jupyter notebook. In VSCode, you can typcially choose the kernel of an open notebook in the top right corner."
   ]
  },
  {
   "cell_type": "markdown",
   "id": "e9ac2f69",
   "metadata": {},
   "source": [
    "### Google Colab\n",
    "In order to setup the same environment that was used for the original latent audio experiments, we emulate a conda environment using [this](https://stackoverflow.com/questions/79560376/custom-jupyter-kernel-on-google-colab) tutorial. This involves first installing miniconda with the desired Python version and then downloading the project code and installing its required libraries with their corresponding versions. Thereafter, we need to adopt a coding routine in which each code cell first activates our new environment and then calls a pre-written Python script from the project folder that performs part of the analysis. If you wish to adjust the analysis, you need to reconfigure the corresponding script. If you like, you can also link your Google drive to this runtime, such that you can save results from the analysis to it.\n",
    "\n",
    "**1. Setup Conda Environment:** We first install miniconda and then create a python 3.9 environment as follows."
   ]
  },
  {
   "cell_type": "code",
   "execution_count": 1,
   "id": "137030c4",
   "metadata": {},
   "outputs": [
    {
     "name": "stdout",
     "output_type": "stream",
     "text": [
      "env: PYTHONPATH=\n"
     ]
    }
   ],
   "source": [
    "# Parameters\n",
    "%env PYTHONPATH =\n",
    "PYTHON_VERSION = \"3.9\""
   ]
  },
  {
   "cell_type": "code",
   "execution_count": null,
   "id": "61587fe3",
   "metadata": {},
   "outputs": [],
   "source": [
    "!wget https://repo.anaconda.com/miniconda/Miniconda3-latest-Linux-x86_64.sh\n",
    "!sudo chmod +x Miniconda3-latest-Linux-x86_64.sh\n",
    "!./Miniconda3-latest-Linux-x86_64.sh -b -f -p /usr/local\n",
    "!conda update --yes conda\n",
    "\n",
    "import sys\n",
    "sys.path.append(f'/usr/local/lib/python{PYTHON_VERSION}/site-packages')\n",
    "\n",
    "!conda create -n latent_audio_env python={PYTHON_VERSION} --yes\n",
    "!apt-get install libtinfo5"
   ]
  },
  {
   "cell_type": "markdown",
   "id": "06292dbb",
   "metadata": {},
   "source": [
    "**2. Download Project Code:** We download the Github repository as follows. Note that this will simply become another folder in Colab's working directory. "
   ]
  },
  {
   "cell_type": "code",
   "execution_count": null,
   "id": "fcd533de",
   "metadata": {},
   "outputs": [],
   "source": [
    "!git clone https://github.com/TimHenry1995/LatentAudio.git"
   ]
  },
  {
   "cell_type": "markdown",
   "id": "68a49a54",
   "metadata": {},
   "source": [
    "**3. Install Required Dependencies:**\n",
    "- The majority of dependencies can be installed using the list given in `LatentAudio/requirements.txt`. With these dependencies, you can do all steps of the analysis except for data augmentation (adding reverberation to the raw sounds, see below). Yet, we already provide our default augmented data with the Github repository. So, as long as you do not intend to change our augmentation procedure or augment your own data, you can ignore these additional dependencies for now."
   ]
  },
  {
   "cell_type": "code",
   "execution_count": null,
   "id": "203dd806",
   "metadata": {},
   "outputs": [],
   "source": [
    "# All regular dependencies (excluding pysndfx and sox)\n",
    "%%shell\n",
    "eval \"$(conda shell.bash hook)\"\n",
    "conda activate latent_audio_env\n",
    "python -m pip install -r LatentAudio/requirements.txt"
   ]
  },
  {
   "cell_type": "markdown",
   "id": "4561187d",
   "metadata": {},
   "source": [
    "**4. Routine For Calling Scripts:** Since regular code cell execution would use Colab's actual environment, we will adopt a different routine. In each code cell, we will first activate the emulated environment (latent_audio_env) and then call a script that contains the current step of the analysis. If you wish to adjust the default analysis, you can reconfigure the corresponding script. Since the previously downloaded GitHub repository is just a collecion of scripts and not  abuilt package, any modification to the scripts will have immediate effect and thus no building or rebuilding from source is needed. To demonstrate the routine, we will first write a \"Hello world!\" print statement to a new Python file and then call that file. "
   ]
  },
  {
   "cell_type": "code",
   "execution_count": null,
   "id": "2da4d31d",
   "metadata": {},
   "outputs": [],
   "source": [
    "# The %%writefile command reads all line below it in the current cell and writes them to cell_to_file.py\n",
    "%%writefile cell_to_file.py\n",
    "print(\"Hello world!\")"
   ]
  },
  {
   "cell_type": "code",
   "execution_count": null,
   "id": "d3d88835",
   "metadata": {},
   "outputs": [],
   "source": [
    "# Here we activate our custom environment and then call the Python script\n",
    "%%shell\n",
    "eval \"$(conda shell.bash hook)\"\n",
    "conda activate latent_audio_env\n",
    "\n",
    "python cell_to_file.py"
   ]
  },
  {
   "cell_type": "markdown",
   "id": "651dcd1d",
   "metadata": {},
   "source": [
    "**5. Manage Storage:** Next, if your google drive has ca. 60 GB of free storage, it is recommended to link your [Google Drive](https://drive.google.com/drive/home) to Colab using the login menu on the left side (small folder icon). This will allow you to save results of the analysis to your personal drive in case Colab closes your runtime before you can download them manually."
   ]
  },
  {
   "cell_type": "code",
   "execution_count": null,
   "id": "f5b7fbc5",
   "metadata": {},
   "outputs": [],
   "source": [
    "from google.colab import drive\n",
    "drive.mount('/content/drive')"
   ]
  },
  {
   "cell_type": "markdown",
   "id": "b9d828cc",
   "metadata": {},
   "source": [
    "## Analysis"
   ]
  },
  {
   "cell_type": "markdown",
   "id": "3813afad",
   "metadata": {},
   "source": [
    "![Analysis Flow Chart.jpg](data:image/jpeg;base64,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)"
   ]
  },
  {
   "cell_type": "markdown",
   "id": "a9b514a1",
   "metadata": {},
   "source": [
    "The analysis consists of multiple steps which involve the mapping of sounds from their acoustic representation to a latent Yamnet one, the classification of these latent representations as well as the disentanglement of material and action factors. The above diagram illustrates the full analysis plan. Several steps are optional and can be performed depending on your interests. The augmentation of the original audio representations by means of reverberation is optional. When it comes to creating PCA models and scalers to project the latent Yamnet representations to a more manageable dimensionality, there are two options.\n",
    "- The first option is to compute the small PCA models, meaning they are only used in the forward direction, e.g. from several thousand latent yamnet dimensions to 64 target dimensions. These are needed for all layers to run step 3 (latent_yamnet_to_calibraiton_data_set) and step 4 (expore_latent_yamnet) which visualizes the latent space in a 2D t-SNE projection and performs layer-wise material and action classification using KNN.\n",
    "- By contrast, the complete PCA model that can also be used to map projected representations back to their original dimensionality requires a large amount of computing resources. It only makes sense to do it for layer 8 or 9, since here Yamnet's original dimensionality is sufficiently low to afford a complete PCA model. Also, these layers tend to represent materials and sounds of actions most strongly, which makes them best suited for disentanglement of these two factors. The evaluate_disentangle script (step 6) will take the flow model to disentangle sounds, e.g. of layer 9, then perturb their material (or action) value and use the complete PCA model of that layer to project the adjusted sounds back onto Yamnet's original layer 9 latent space. It then continues Yamnet's downward processing to study the effect of the perturbations on Yamnet's output classes.\n",
    "\n",
    "Hence, if you final goal was to only run step 4 (explore_latent_yamnet), then you would only need to make sure you have your latent yamnet representations of all sounds and the small PCA models and standard scalers for all Yamnet layers. However, if you wanted to do the causal experiments that involve perturbing action and material properties in Yamnet's layer 8 (or 9), then you need to make sure you have the complete PCA model and its standard scalers for the layer of interest (step 2) and then run steps 3, 5 and 6.\n",
    "\n",
    "The below sections guide you through the different analysis steps. You can visit each section upon interest. Watch out for the requirements of each section to see whether you need to have executed a prior section beforehand. You will see that the code snippets always just call existing functions defined in the `LatentAudio/src/scripts folder` of our code repository. If you like to make changes to these functions, simply copy the function from the repository into your code editor/ cell and perform the edits there. Then, call your updated function instead of our pre-written one."
   ]
  },
  {
   "cell_type": "markdown",
   "id": "6850d1e3",
   "metadata": {},
   "source": [
    "### Configuration\n",
    "Before starting the analysis, it makes sense to set a few configuration parameters and save them to a file. We prepared a simple configuration for you using the below code cell and saved it to `LatentAudio/configurations/Simple Configuration.json`. You can see in the file `LatentAudio/configurations/selected.txt` that this simple configuration is the one that is chosen by default. The subsequent scripts that execute the analysis will use this simple configuration. This will result in a shortened version of the analysis from our accompanying paper that will demonstrate the highlights of our analysis with minimal time and storage requirements. We also provide the `From Paper Configuration.json` which will give you the same analysis as we present in our paper. To use it, change the content of `LatentAudio/configurations/selected.txt` to 'configuration_from_paper'. If you want to experiment with your own configuration, use the below code cell to create one. Make sure to assign it a descriptive name."
   ]
  },
  {
   "cell_type": "code",
   "execution_count": null,
   "id": "c54b60cd",
   "metadata": {},
   "outputs": [],
   "source": [
    "import os\n",
    "import json\n",
    "\n",
    "# Set parameters\n",
    "configuration_name = 'complete configuration'\n",
    "project_folder = ['LatentAudio'] # Your terminal/ code editor is likley pointing to the latent audio folder right now. You can leave it like this for the time being. However, if you want to use your own data or models, you might want to set this path variable to a more convenient folder, here.\n",
    "external_hard_drive_path = [r'D:\\\\'] + project_folder # After concatenation, this gives a path to a folder that is used to store all (intermediate and final) results of the analysis. It will require up to 60 GB. If you have an external hard-drive, we recommend to set this path to a folder on that hard-drive. If you are on Google Colab, the session storage should be sufficient. But. remember that it will get deletd once your Colab runtime is destroyed.  \n",
    "layer_indices = list(range(14))\n",
    "material_to_index = {\"W\":0,\"G\":1,\"P\":2,\"S\":3,\"C\":4}\n",
    "action_to_index = {\"T\":0,\"R\":1,\"W\":2}\n",
    "random_seed = 42 \n",
    "stage_count = 3\n",
    "epoch_count = 2\n",
    "\n",
    "configuration = {\n",
    "  # Configuration \n",
    "  'name': configuration_name,\n",
    "  'steps' : [\n",
    "    {\n",
    "      'script' : 'audio_to_latent_yamnet',\n",
    "      'arguments' :\n",
    "      {\n",
    "      'sounds_folder': project_folder + ['data','sounds','complete'],\n",
    "      'sound_file_names': [f\"{m}{a}.wav\" for m in material_to_index.keys() for a in action_to_index.keys()], # Ensuring the only process the sound files for the selected materials and actions (efficiency)\n",
    "      'latent_representations_folder': external_hard_drive_path + [configuration_name,'data','latent','original'],# Will store the original and projected latent yamnet representations for each layer for each sound. Since this requires tens of gigabytes, you might want to direct this to an external hard-drive.\n",
    "      'layer_indices': layer_indices,\n",
    "      'time_frames_per_slice': 10,\n",
    "      'offset': 1,\n",
    "      'figure_folder': external_hard_drive_path + [configuration_name,'figures']\n",
    "      }\n",
    "    },\n",
    "    {\n",
    "      'script' : 'create_scalers_and_PCA_model_for_latent_yamnet',\n",
    "      'arguments' :\n",
    "      {\n",
    "      'latent_representations_folder': external_hard_drive_path + [configuration_name,'data','latent','original'],\n",
    "      'PCA_and_standard_scaler_folder': external_hard_drive_path + [configuration_name,'models','pca and standard scalers'],\n",
    "      'layer_indices': [8],\n",
    "      'target_dimensionalities': [None], # None means a full PCA model\n",
    "      'random_seeds': [random_seed] * len(layer_indices), # Each layer gets its own seed, for simplicity, we set all equal\n",
    "      'sample_sizes': [None] # None means that the samples ize will be 1.1 * target dimensionality which gives 11246 for layer 9. Here, we set it to the same number for all other layers\n",
    "      }\n",
    "    },\n",
    "    {\n",
    "      'script' : 'apply_scalers_and_PCA_to_latent_yamnet',\n",
    "      'arguments' :\n",
    "      {\n",
    "      'latent_representations_folder': external_hard_drive_path + [configuration_name,'data','latent','original'],\n",
    "      'PCA_and_standard_scaler_folder': external_hard_drive_path + [configuration_name,'models','pca and standard scalers'],\n",
    "      'layer_indices': [8],\n",
    "      'target_dimensionalities': [64], # All should project to the same dimensionality now\n",
    "      'projection_folder': external_hard_drive_path + [configuration_name,'data','latent','pca projected'],\n",
    "      'file_name_prefix_to_factor_wise_label':  {f\"{m}{a}\" : [material_to_index[m], action_to_index[a]] for m in material_to_index.keys() for a in action_to_index.keys()}, # File names are of the form MA, where M is the material abbreviation and A the action abbreviation\n",
    "      'figure_folder':  external_hard_drive_path + [configuration_name,'figures']\n",
    "      }\n",
    "    },\n",
    "    {\n",
    "      'script' : 'explore_latent_yamnet',\n",
    "      'arguments' :\n",
    "      {\n",
    "      'pca_projected_folder': external_hard_drive_path + [configuration_name,'data','latent','pca projected'],\n",
    "      'layer_indices': layer_indices,\n",
    "      'random_seeds': [random_seed] * len(layer_indices),\n",
    "      'sample_sizes': [3000] * len(layer_indices),\n",
    "      'factor_name': 'Material',\n",
    "      'factor_index': 0,\n",
    "      'cross_validation_folds': 10,\n",
    "      'neighbor_count': 10,\n",
    "      'class_index_to_name': {value:key for key, value in material_to_index.items()},\n",
    "      'figure_folder':  external_hard_drive_path + [configuration_name,'figures']\n",
    "      }\n",
    "    },\n",
    "    {\n",
    "      'script' : 'explore_latent_yamnet',\n",
    "      'arguments' :\n",
    "      {\n",
    "      'pca_projected_folder': external_hard_drive_path + [configuration_name,'data','latent','pca projected'],\n",
    "      'layer_indices': layer_indices,\n",
    "      'random_seeds': [random_seed] * len(layer_indices),\n",
    "      'sample_sizes': [3000] * len(layer_indices),\n",
    "      'factor_name': 'Action',\n",
    "      'factor_index': 1,\n",
    "      'cross_validation_folds': 10,\n",
    "      'neighbor_count': 10,\n",
    "      'class_index_to_name': {value:key for key, value in action_to_index.items()},\n",
    "      'figure_folder':  external_hard_drive_path + [configuration_name,'figures']\n",
    "      }\n",
    "    },\n",
    "    {\n",
    "      'script' : 'disentangle',\n",
    "      'arguments' :\n",
    "      {\n",
    "      'random_seed': random_seed,\n",
    "      'stage_count': stage_count,\n",
    "      'batch_size': 2048,\n",
    "      'epoch_count': epoch_count,\n",
    "      'learning_rate': 0.0005,\n",
    "      'validation_proportion': 0.3,\n",
    "      'dimensions_per_factor': [62,1,1], # In order of residual factor, material factor, action factor\n",
    "      'factor_index_to_included_class_indices': {0: list(material_to_index.values()), 1: list(action_to_index.values())},\n",
    "      'pca_projected_folder': external_hard_drive_path + [configuration_name,'data','latent','pca projected','Layer 9'],\n",
    "      'flow_model_folder': external_hard_drive_path + [configuration_name,'models','flow'],\n",
    "      'figure_folder':  external_hard_drive_path + [configuration_name,'figures']\n",
    "      }\n",
    "    },\n",
    "    {\n",
    "      'script' : 'evaluate_disentangle',\n",
    "      'arguments' :\n",
    "      {\n",
    "      'stage_count': stage_count,\n",
    "      'epoch_count': epoch_count,\n",
    "      'dimensions_per_factor': [62,1,1], # In order of residual factor, material factor, action factor\n",
    "      'random_seed': random_seed,\n",
    "      'validation_proportion': 0.3,\n",
    "      'factor_index_to_z_tilde_dimension': {0:62, 1:63},\n",
    "      'factor_index_to_y_dimension': {0:0, 1:1},\n",
    "      'factor_index_to_included_class_indices_to_names': {0: {value: key for key, value in material_to_index.items()}, 1: {value: key for key, value in action_to_index.items()}},\n",
    "      'factor_index_to_name': {0:'Material',1:'Action'},\n",
    "      'latent_representations_folder': external_hard_drive_path + [configuration_name,'data','latent','original','Layer 9'],\n",
    "      'layer_index': 9,\n",
    "      'pca_projected_folder': external_hard_drive_path + [configuration_name,'data','latent','pca projected','Layer 9'],\n",
    "      'PCA_and_standard_scaler_folder': external_hard_drive_path + [configuration_name,'models','pca and standard scalers','Layer 9'],\n",
    "      'flow_model_folder': external_hard_drive_path + [configuration_name,'models','flow'],\n",
    "      'figure_folder':  external_hard_drive_path + [configuration_name,'figures'],\n",
    "      'file_name_prefix_to_factor_wise_label':  {f\"{m}{a}\" : [material_to_index[m], action_to_index[a]] for m in material_to_index.keys() for a in action_to_index.keys()}, # File names are of the form MA, where M is the material abbreviation and A the action abbreviation\n",
    "      }\n",
    "    }\n",
    "  ],\n",
    "}\n",
    "# Write configuration to file\n",
    "with open(os.path.join(*project_folder+['configurations', configuration['name'] + '.json']),'w') as f:\n",
    "  json.dump(configuration,f)"
   ]
  },
  {
   "cell_type": "code",
   "execution_count": 4,
   "id": "0d707362",
   "metadata": {},
   "outputs": [],
   "source": [
    "import os\n",
    "import json\n",
    "\n",
    "# Set parameters\n",
    "configuration_name = 'simple configuration'\n",
    "project_folder = ['LatentAudio'] # Your terminal/ code editor is likley pointing to the latent audio folder right now. You can leave it like this for the time being. However, if you want to use your own data or models, you might want to set this path variable to a more convenient folder, here.\n",
    "external_hard_drive_path = [r'E:\\\\'] + project_folder # After concatenation, this gives a path to a folder that is used to store all (intermediate and final) results of the analysis. It will require up to 60 GB. If you have an external hard-drive, we recommend to set this path to a folder on that hard-drive. If you are on Google Colab, the session storage should be sufficient. But. remember that it will get deletd once your Colab runtime is destroyed.  \n",
    "layer_indices = [0,9,13]\n",
    "material_to_index = {\"W\":0,\"M\":1,\"G\":2,\"C\":3}\n",
    "action_to_index = {\"T\":0,\"R\":1,\"W\":2}\n",
    "random_seed = 42 \n",
    "\n",
    "configuration = {\n",
    "  # Configuration \n",
    "  'name': configuration_name,\n",
    "  'steps' : [\n",
    "    {\n",
    "      'script' : 'audio_to_latent_yamnet',\n",
    "      'arguments' :\n",
    "      {\n",
    "      'sounds_folder': project_folder + ['data','sounds','short'],\n",
    "      'sound_file_names': [f\"{m}{a}.wav\" for m in material_to_index.keys() for a in action_to_index.keys()], # Ensuring the only process the sound files for the selected materials and actions (efficiency)\n",
    "      'latent_representations_folder': external_hard_drive_path + [configuration_name,'data','latent','original'],# Will store the original and projected latent yamnet representations for each layer for each sound. Since this requires tens of gigabytes, you might want to direct this to an external hard-drive.\n",
    "      'layer_indices': layer_indices,\n",
    "      'time_frames_per_slice': 5,\n",
    "      'offset': 1,\n",
    "      'figure_folder': external_hard_drive_path + [configuration_name,'figures']\n",
    "      }\n",
    "    },\n",
    "    {\n",
    "      'script' : 'create_scalers_and_PCA_model_for_latent_yamnet',\n",
    "      'arguments' :\n",
    "      {\n",
    "      'latent_representations_folder': external_hard_drive_path + [configuration_name,'data','latent','original'],\n",
    "      'PCA_and_standard_scaler_folder': external_hard_drive_path + [configuration_name,'models','pca and standard scalers'],\n",
    "      'layer_indices': layer_indices,\n",
    "      'target_dimensionalities': [64, None, 64], # None means a full PCA model\n",
    "      'random_seeds': [random_seed] * len(layer_indices), # Each layer gets its own seed, for simplicity, we set all equal\n",
    "      'sample_sizes': [10000, None, 10000] # None means that the samples ize will be 1.1 * target dimensionality\n",
    "      }\n",
    "    },\n",
    "    {\n",
    "      'script' : 'apply_scalers_and_PCA_to_latent_yamnet',\n",
    "      'arguments' :\n",
    "      {\n",
    "      'latent_representations_folder': external_hard_drive_path + [configuration_name,'data','latent','original'],\n",
    "      'PCA_and_standard_scaler_folder': external_hard_drive_path + [configuration_name,'models','pca and standard scalers'],\n",
    "      'layer_indices': layer_indices,\n",
    "      'target_dimensionalities': [64] * len(layer_indices), # All should project to the same dimensionality now\n",
    "      'projection_folder': external_hard_drive_path + [configuration_name,'data','latent','pca projected'],\n",
    "      'file_name_prefix_to_factor_wise_label':  {f\"{m}{a}\" : [material_to_index[m], action_to_index[a]] for m in material_to_index.keys() for a in action_to_index.keys()}, # File names are of the form MA, where M is the material abbreviation and A the action abbreviation\n",
    "      'figure_folder':  external_hard_drive_path + [configuration_name,'figures']\n",
    "      }\n",
    "    },\n",
    "    {\n",
    "      'script' : 'explore_latent_yamnet',\n",
    "      'arguments' :\n",
    "      {\n",
    "      'pca_projected_folder': external_hard_drive_path + [configuration_name,'data','latent','pca projected'],\n",
    "      'layer_indices': layer_indices,\n",
    "      'random_seeds': [random_seed] * len(layer_indices),\n",
    "      'sample_sizes': [3000] * len(layer_indices),\n",
    "      'factor_name': 'Material',\n",
    "      'factor_index': 0,\n",
    "      'cross_validation_folds': 10,\n",
    "      'neighbor_count': 3,\n",
    "      'class_index_to_name': {value:key for key, value in material_to_index.items()},\n",
    "      'figure_folder':  external_hard_drive_path + [configuration_name,'figures']\n",
    "      }\n",
    "    },\n",
    "    {\n",
    "      'script' : 'explore_latent_yamnet',\n",
    "      'arguments' :\n",
    "      {\n",
    "      'pca_projected_folder': external_hard_drive_path + [configuration_name,'data','latent','pca projected'],\n",
    "      'layer_indices': layer_indices,\n",
    "      'random_seeds': [random_seed] * len(layer_indices),\n",
    "      'sample_sizes': [3000] * len(layer_indices),\n",
    "      'factor_name': 'Action',\n",
    "      'factor_index': 1,\n",
    "      'cross_validation_folds': 10,\n",
    "      'neighbor_count': 3,\n",
    "      'class_index_to_name': {value:key for key, value in action_to_index.items()},\n",
    "      'figure_folder':  external_hard_drive_path + [configuration_name,'figures']\n",
    "      }\n",
    "    },\n",
    "    {\n",
    "      'script' : 'disentangle',\n",
    "      'arguments' :\n",
    "      {\n",
    "      'random_seed': random_seed,\n",
    "      'stage_count': 2,\n",
    "      'batch_size': 1024,\n",
    "      'epoch_count': 500,\n",
    "      'learning_rate': 0.00025,\n",
    "      'validation_proportion': 0.3,\n",
    "      'dimensions_per_factor': [62,1,1], # In order of residual factor, material factor, action factor\n",
    "      'factor_index_to_included_class_indices': {0: list(material_to_index.values()), 1: list(action_to_index.values())},\n",
    "      'pca_projected_folder': external_hard_drive_path + [configuration_name,'data','latent','pca projected','Layer 9'],\n",
    "      'flow_model_folder': external_hard_drive_path + [configuration_name,'models','flow'],\n",
    "      'figure_folder':  external_hard_drive_path + [configuration_name,'figures']\n",
    "      }\n",
    "    },\n",
    "    {\n",
    "      'script' : 'evaluate_disentangle',\n",
    "      'arguments' :\n",
    "      {\n",
    "      'stage_count': 2,\n",
    "      'epoch_count': 500,\n",
    "      'dimensions_per_factor': [62,1,1], # In order of residual factor, material factor, action factor\n",
    "      'random_seed': random_seed,\n",
    "      'validation_proportion': 0.3,\n",
    "      'factor_index_to_dimension_index': {0:62, 1:63},\n",
    "      'factor_index_to_included_class_indices_to_names': {0: {value: key for key, value in material_to_index.items()}, 1: {value: key for key, value in action_to_index.items()}},\n",
    "      'factor_index_to_name': {0:'Material',1:'Action'},\n",
    "      'latent_representations_folder': external_hard_drive_path + [configuration_name,'data','latent','original','Layer 9'],\n",
    "      'layer_index': 9,\n",
    "      'pca_projected_folder': external_hard_drive_path + [configuration_name,'data','latent','pca projected','Layer 9'],\n",
    "      'PCA_and_standard_scaler_folder': external_hard_drive_path + [configuration_name,'models','pca and standard scalers','Layer 9'],\n",
    "      'flow_model_folder': external_hard_drive_path + [configuration_name,'models','flow'],\n",
    "      'figure_folder':  external_hard_drive_path + [configuration_name,'figures'],\n",
    "      'file_name_prefix_to_factor_wise_label':  {f\"{m}{a}\" : [material_to_index[m], action_to_index[a]] for m in material_to_index.keys() for a in action_to_index.keys()}, # File names are of the form MA, where M is the material abbreviation and A the action abbreviation\n",
    "      }\n",
    "    }\n",
    "  ],\n",
    "}\n",
    "# Write configuration to file\n",
    "with open(os.path.join(*project_folder+['configurations', configuration['name'] + '.json']),'w') as f:\n",
    "  json.dump(configuration,f)"
   ]
  },
  {
   "cell_type": "markdown",
   "id": "6c6531d6",
   "metadata": {},
   "source": [
    "### (0) Data Augmentation\n",
    "**Description:** This step takes the raw sounds and creates a copy that includes reverberation.\n",
    "\n",
    "**Necessity:** This step is optional. Following the simple configuration, we recommend that you skip it for now because the installation of the additional dependencies ([pysndfx](https://pypi.org/project/pysndfx/) and [SoX](https://sourceforge.net/projects/sox/)) does not work on all systems and using the augmented data doubles the storage requirements and running times of all following analysis steps. Furthermore, the conclusions about the results will not differ much from the ones with augmented data that we show in our paper. In case you have difficulty installing pysndfx or sox but it is still important for you to reproduce our exact same results from the paper, you can rely on our pre-computed augmented data located at `LatentAudio/data/input/augmented audio`."
   ]
  },
  {
   "cell_type": "markdown",
   "id": "7ef802df",
   "metadata": {},
   "source": [
    "**Pre-requisites:**\n",
    "- You need to have an installation of [pysndfx](https://pypi.org/project/pysndfx/) and [SoX](https://sourceforge.net/projects/sox/). \n",
    "- You need to have a set of sounds that are recorded according to a fully factorized design. Here, we use the two factors material and action. Our materials are metal, plastic, cardboard, glass, wood and stone and our actions are hitting, rubbing, destructing and whirling. This yields 6 material x 4 action = 24 conditions. For each condition, we recorded 10 minutes of continuous, monaural sound at 48kHz with int16 bit rate. The sound files are located in 'data/raw audio' and stored as .wav files whose file names consist of the initial letters of the corresponding material and action. You can use our data that was automatically downloaded with this repository. If you prefer, you can use your own data instead, but make sure to use a similar format.\n",
    "\n",
    "**Installation of pysndfx and sox:**\n",
    "\n",
    "*Local Machine:* You can try installing the libraries using the official documentation of pysndfx and sox. Note that even if you seem to be able to install sox using pip, it might still raise an exception regarding unfound files during execution of the augment_audio script.\n",
    "\n",
    "*Colab:* Execute the below code cell. "
   ]
  },
  {
   "cell_type": "code",
   "execution_count": null,
   "id": "9f90e6e8",
   "metadata": {},
   "outputs": [],
   "source": [
    "%%shell\n",
    "eval \"$(conda shell.bash hook)\"\n",
    "conda activate latent_audio_env\n",
    "python -m pip install pysndfx==0.3.6\n",
    "apt install sox"
   ]
  },
  {
   "cell_type": "markdown",
   "id": "7a980cf2",
   "metadata": {},
   "source": [
    "**Code Execution:** \n",
    "Assuming that the requirements are all satisfied, we run the augmentation script. It will load the sounds, add reverberation and save them to a new folder. If the target folder does not yet exist, it will be created. If there are any sound files of same name in that new folder, they will be replaced. You can ignore the tensorflow warnings regarding cuda and GPU setup, in case they pop up.\n",
    "\n",
    "- *Local Machine:* The below code requests the documentation of the augment_audio script and then shows how it can be used by directly passing all its input argument from within the terminal. Execute the below commands in your terminal. Note, on Unix-based systems you might need to replace the \\ with a / in the path leading to the augment_audio.py file.\n",
    "    ```\n",
    "    python LatentAudio\\scripts\\augment_audio.py -h\n",
    "    python LatentAudio\\scripts\\augment_audio.py --raw_sounds_folder '[\\\"LatentAudio\\\", \\\"data\\\",\\\"input\\\",\\\"raw sounds\\\"]' --augmented_sounds_folder '[\\\"LatentAudio\\\", \\\"data\\\",\\\"input\\\",\\\"augmented sounds\\\"]' --file_name_suffix '_augmented'\n",
    "    ```\n",
    "\n",
    "- *Colab:* Execute the below code cell."
   ]
  },
  {
   "cell_type": "code",
   "execution_count": null,
   "id": "1bfde490",
   "metadata": {},
   "outputs": [],
   "source": [
    "# Run the data augmentation script\n",
    "%%shell\n",
    "eval \"$(conda shell.bash hook)\"\n",
    "conda activate latent_audio_env\n",
    "\n",
    "python LatentAudio/scripts/augment_audio.py --raw_sounds_folder '[\\\"LatentAudio\\\", \\\"data\\\",\\\"input\\\",\\\"raw sounds\\\"]' --augmented_sounds_folder '[\\\"LatentAudio\\\", \\\"data\\\",\\\"input\\\",\\\"augmented sounds\\\"]'--file_name_suffix '_augmented'"
   ]
  },
  {
   "cell_type": "markdown",
   "id": "471698df",
   "metadata": {},
   "source": [
    "### (1) Waveform to Latent Yamnet\n",
    "**Description:** This step takes all sounds from the data set, ensures they are 1-second long snippets and passes them through Yamnet. Then, at each layer of Yamnet, it extracts the representations, flattens them and saves them to disk.\n",
    "\n",
    "**Necessity:** This step is necessary such that we can explore the latent representations with PCA, t-SNE and KNN (step 4) as well as disentangle and manipulate them (steps 5 and 6).\n",
    "\n",
    "**Time:** This step took approximately 1 hour, in our Google Colab test on the raw data (i.e. without augmentation).\n",
    "\n",
    "**Memory:** This step requires less than 12GB RAM.\n",
    "\n",
    "**Storage:** This step produces ca. 46GB of storage in case of using only the raw data (i.e. without augmentation).\n",
    "\n",
    "**Pre-requisites:**\n",
    "- A set of sounds structured as described in the pre-requisites paragraph of the section on data augmentation. You need to have at least the raw data available and optionally also the augmented data.\n",
    "\n",
    "**Coe Execution:** The below code navigates to the corresponding script, calls it with the -h argument to show how it is used and then uses it in conjunction with the our configuration file.\n",
    "\n",
    "- *Local Machine:* Execute the below commands in your terminal. Note, on Unix-based systems you might need to replace the \\ with a /\n",
    "    ```\n",
    "    python LatentAudio\\scripts\\audio_to_latent_yamnet.py -h\n",
    "    python LatentAudio\\scripts\\audio_to_latent_yamnet.py --configuration_file_path 'LatentAudio\\configurations\\simple' --configuration_step 0\n",
    "    ```\n",
    "\n",
    "- *Colab:* Execute the below code cell."
   ]
  },
  {
   "cell_type": "code",
   "execution_count": null,
   "id": "456a4c18",
   "metadata": {},
   "outputs": [],
   "source": [
    "# Run the data audio to latent yamnet script\n",
    "%%shell\n",
    "eval \"$(conda shell.bash hook)\"\n",
    "conda activate latent_audio_env\n",
    "\n",
    "# See how to use the script\n",
    "python LatentAudio/scripts/audio_to_latent_yamnet.py -h\n",
    "\n",
    "# Use the script with the simple configuration\n",
    "python LatentAudio/scripts/audio_to_latent_yamnet.py --configuration_file_path 'LatentAudio\\configurations\\simple' --configuration_step 0"
   ]
  },
  {
   "cell_type": "markdown",
   "id": "4654242e",
   "metadata": {},
   "source": [
    "### (2) Fitting Principal Component Models and Standard Scalers\n",
    "**Description:** In order to analyze the latent representations of Yamnet, we decided to project them to a more manageable dimensionality with the help of principal component analysis (PCA). PCA assumes that the original dimensions are all on the same scale, hence we fit a pre-PCA standard scaler. After projecting the data, we also use a post-PCA standard scaler to make sure also the projections are on a standard scale which helps with downstream modelling. In the current step, we simply save these standard scalers and PCA models to disk. The actual scaling and projection of the data will be performed in step 3.\n",
    "\n",
    "**Necessity:** This step is necessary to reduce the computational overload of steps 3, 4, 5 and 6.\n",
    "\n",
    "**Time:** This step took ca. 30 minutes in our Google Colab test. Of these 30 minutes, ca 10 were devoted to creating small PCA models and standard scalers for all Yamnet layers except layer 1 (0 index-based) which would require too much memory (see below). The remaining 20 minutes were spent on creating 1 large PCA model and standard scalers for layer 8.\n",
    "\n",
    "**Memory:** With our here provided configuration, this step required less than 12 GB of RAM. This covers setting up small PCA models and standard scalers for all Yamnet layers except layer 1 (0 index-based) as well as a large PCA model and standard scalers for layer 8. In separate tests on our local computer with 16GB RAM we were able to create an additional small PCA model and standard scalers also for layer 1.\n",
    "\n",
    "**Storage:** With out here provided configuration (skipping layer 1), this step created a total of 0.68 GB of storage. Of these 0.68 GB, ca. 0.08 GB of storage were used for the small PCA models and standard scalers and the remaining ca. 0.6 GB of storage for the large PCA model and standard scaler for layer 8. On Google Colab, you will probably get a warning that you are approaching the storage limit. You can ignore this warning.\n",
    "\n",
    "**Pre-requisites:** The layerwise Yamnet representations of sound need to be available (see step 1).\n",
    "\n",
    "**Important technical note:** The process of fitting a PCA model to data is fast when the output dimensionality of PCA is small. This will suffice for most layers, namely those for which we do visualization (step 4 and parts of steps 5 and 6). Yet, when it comes to making perturbations to the disentangled latent space and measuring their effect on Yamnet's classification, we need PCA to be invertible. This only works if we have a PCA model of complete dimensionality, meaning same input as output dimensionality. Since it takes a large amount of time to fit such a PCA model, we decided to do this only for the Yamnet layer that best distinguishes materials and actions (as determined in step 4). For us, this was typically layer 9 and thus we show results for that layer in the paper. We observed slight variations depending on data augmentation (step 0) or the sampling procedure with which data points are selected to be fed into our modelling pipeline. In the below code, we use layer 8 since that seemed best according to the exploratory analysis (step 4, see below) when we ran this notebook without data augmentation.\n",
    "\n",
    "**Interpretation of Results:** The current step also produces a few plots. The first plot shows for each layer the distribution of the proportion of explained variance across the projected number of dimensions (see configuration['PCA_target_dimensionality']). Each section in a bar corresponds to one such dimension. The dimensions are ordered by their respective proportions. The second plot shows how many dimensions each layer of the original Yamnet model had. You will see that only the layers of configuration['layer_indices_small_PCA'] and configuration['layer_index_full_PCA'] are included.\n",
    "\n",
    "*Local Machine:* Run the script LatentAudio/scripts/create_scalers_and_PCA_model_for_latent_yamnet.py\n",
    "\n",
    "*Colab:* Execute the below cell"
   ]
  },
  {
   "cell_type": "code",
   "execution_count": null,
   "id": "b64fc81a",
   "metadata": {},
   "outputs": [],
   "source": [
    "# Run the create_scalers_and_PCA_model_for_latent_yamnet script\n",
    "%%shell\n",
    "eval \"$(conda shell.bash hook)\"\n",
    "conda activate latent_audio_env\n",
    "\n",
    "python LatentAudio/scripts/create_scalers_and_PCA_model_for_latent_yamnet.py"
   ]
  },
  {
   "cell_type": "markdown",
   "id": "86902b63",
   "metadata": {},
   "source": [
    "### (3) Prepare projections of latent Yamnet for model training\n",
    "**Description:** In this step, the latent representations of the individual sounds output by step 1 will be passed through the standard scalers and PCA from step 2 and saved into one unified matrix of shape [instance count, projected dimensionality] stored as X.npy. Next to that, a file called Y.npy will be created that is a matrix of shape [instance count, factor count], collecting the corresponding factor-wise label indices. Note, the output files will overwrite any existing files of same name at the given path (if existent).\n",
    "\n",
    "**Necessity:** This step is necessary to calibrate the different models of steps 4 (t-SNE, KNN) and 5 (disentangling flow model) as well as to run the statistical tests in step 6.\n",
    "\n",
    "**Time:** This step took ca. 75 minutes in our test on Google Colab that excluded layer 1 and used no data augmentation.\n",
    "\n",
    "**Memory:** This step required us less than 12 GB of memory if layer 1 was excluded and no data augmentation was used.\n",
    "\n",
    "**Storage:** This step produced ca 0.1 GB of storage, if layer 1 was excluded and no data was augmented.\n",
    "\n",
    "**Pre-requisites:** It is assumed that the layer-wise latent Yamnet representations (step 1) as well as the standard scalers and small PCA models (step 2) for the layers at configuration['layer_indices_small_PCA'] and configuration['layer_index_large_PCA'] are available.\n",
    "\n",
    "**Important technical note:** Most layers will be projected with the small PCA models and standard scalers. Only the layer that shall be disentangled in step 5 and 6 will be projected with the large PCA model because that one is the only invertible one.\n",
    "\n",
    "*Local Machine:* Run the script LatentAudio/scripts/latent_yamnet_to_calibration_data_set.py\n",
    "\n",
    "*Colab:* Execute the below cell\n"
   ]
  },
  {
   "cell_type": "code",
   "execution_count": null,
   "id": "7bad3ad5",
   "metadata": {},
   "outputs": [],
   "source": [
    "# Run the latent_yamnet_to_calibration_data_set script\n",
    "%%shell\n",
    "eval \"$(conda shell.bash hook)\"\n",
    "conda activate latent_audio_env\n",
    "\n",
    "python LatentAudio/scripts/latent_yamnet_to_calibration_data_set.py"
   ]
  },
  {
   "cell_type": "markdown",
   "id": "427129d5",
   "metadata": {},
   "source": [
    "Now, the pre-processing is completed. The only data structures needed from here on are\n",
    "- The latent Yamnet projected X and their Y matrices (all layers)\n",
    "- The original x and y files of latent representations of sounds (only for layer with full PCA)\n",
    "- The full dimensionality scalers and PCA models\n",
    "\n",
    "All other files are no longer needed for the subsequent processing and may be deleted to save storage."
   ]
  },
  {
   "cell_type": "markdown",
   "id": "a3474d8f",
   "metadata": {},
   "source": [
    "### (4) Explore latent Yamnet\n",
    "**Description:** This step loads the layerwise latent yamnet projections from step 3, fits a cross-validated k-nearest neighbor model to each to predict materials and actions and creates a 2D projection for the first, most accurate and last layers using t-distributed stochastic neighborhood embeddings (t-SNE).\n",
    "All created plots are saved at the figure output folder, where they replace any existing plots of same name (if existent).\n",
    "\n",
    "**Time:** This step took ca. 5 minutes in our Google Colab test run which excluded layer 1.\n",
    "\n",
    "**Memory:** The memory required for this step is well below 12GB.\n",
    "\n",
    "**Storage:** The storage required for this step is on the order of kb, since only a few figures are saved.\n",
    "\n",
    "**Necessity:** This step is optional, yet recommended in order to better understand to what extent material and action properties are represented in Yamnet's latent space.\n",
    "\n",
    "**Pre-requisites:** Assumes that the calibration data X.npy and Y.npy (step 3) are available.\n",
    "\n",
    "**Technical note:** The previous discussion of technical notes indicated that for layer 1, no projection from original latent dimensionality to a lower, more manageable dimensionality could be made. This is of no concern here, because the below function automatically selects only the available projections found in the latent data folder. Another issue discussed above was that layer 8 would be projected with the full PCA model while other layers would be projected with a small PCA model. This is also of no concern here, because the current step only processes the existing projections. It is indifferent to how the projections were obtained. You should, nonetheless, be able to verify that the layer chosen for full PCA model allows for the most accurate recognition of material (and action) classes. This observation justifies our earlier selection of layer 8 as the only layer for which a full PCA model was afforded. If you find that layer 9 is most accurate in the below outputs, do not be too concerned. The overall conclusions here as well as in later steps will remain the same. So, you can safely continue with your full PCA model for layer 8 from here on, rather than rebuilding the full PCA model for layer 9.\n",
    "\n",
    "**Interpretation of Results:** The below cell will produce several results for the material factor as well as the action factor. After fitting the KNN models in a k-fold cross-validation procedure for each available layer, it will check which one is the most accurate. It will then perform 3 statistical tests (t-tests), to determine whether the first layer, the most accurate and the last layer are each significantly different in terms of KNN classification accuracy. We typically observe that layer 8 (or sometimes layer 9, depending on some random aspects of instance selection) allows for most accurate recognition of material classes. Similarly for action classes. After showing the statistical test results, the function will also create box plots for the cross-validated accuracies and indicate the statistically tested pairs of layers with horizontal lines. A star above the line indicates significance at the 5% Bonferroni corrected level. Lastly, the function plots the t-SNE projections onto 2 arbitrary spatial dimensions for the first, most accurate and last layers with coloring according to the corresponding factor's classes. Here, we typically found that small pockets of similar instances are most pronounced in the most accurate layer. This is merely a visual sanity check to convince ourselves that, indeed, the corresponding material (or action) classes are present in the layer of interest.\n",
    "\n",
    "*Local Machine:* Run the script LatentAudio/scripts/explore_latent_yamnet.py\n",
    "\n",
    "*Colab:* Execute the below cell"
   ]
  },
  {
   "cell_type": "code",
   "execution_count": null,
   "id": "9bb55f5e",
   "metadata": {},
   "outputs": [],
   "source": [
    "# Run the explore_latent_yamnet script\n",
    "%%shell\n",
    "eval \"$(conda shell.bash hook)\"\n",
    "conda activate latent_audio_env\n",
    "\n",
    "python LatentAudio/scripts/explore_latent_yamnet.py"
   ]
  },
  {
   "cell_type": "markdown",
   "id": "eaca741a",
   "metadata": {},
   "source": [
    "### (5) Disentangle Latent Yamnet\n",
    "**Description:** In this step, a flow model is calibrated on the projected latent represenetations to disentangle the underlying factors (material and action). Each factor shall be separated into their respective classes, independent of the other factor. Several plots are created to illustrate the process. The plots will overwrite any existing plots of same name.\n",
    "\n",
    "**Pre-requisites:** It is assumed that the calibration data set consisting of projected latent yamnet representations for the layer with full PCA was created apriori.\n",
    "\n",
    "**Time:** This step took us ca. 30 minutes for layer 8 run on the raw data (thus no augmentation). Yet, this may vary depending on how long you want to calibrate the model.\n",
    "\n",
    "**Memory:** This step requires less than 12GB of RAM.\n",
    "\n",
    "**Storage:** This step requires little storage, on the order of MB, and varies depending on how large you choose the model to be.\n",
    "\n",
    "*Local Machine:* Run the script LatentAudio/scripts/disentangle.py\n",
    "\n",
    "*Colab:* Execute the below cell"
   ]
  },
  {
   "cell_type": "code",
   "execution_count": null,
   "id": "72e31dd9",
   "metadata": {},
   "outputs": [],
   "source": [
    "# Run the disentangle script\n",
    "%%shell\n",
    "eval \"$(conda shell.bash hook)\"\n",
    "conda activate latent_audio_env\n",
    "\n",
    "python LatentAudio/scripts/disentangle.py"
   ]
  },
  {
   "cell_type": "markdown",
   "id": "1eb8d43d",
   "metadata": {},
   "source": [
    "### (6) Evaluate Disentanglement\n",
    "**Description:** In this step, the disentangling flow model from step 5 is evaluated. This is done in two steps. The first step passes some latent Yamnet projections through the flow model and shows the first two dimensions of the disentangled space in a scatter plot. These two dimensions correspond to the material and action variation, respectively. All remaining dimensions are not shown, yet they are knwon to only represent uniformly distributed residual variance of the sounds. The second step permutes sounds along the material axis (or action axis) and uses the invertibility of the flow model and the full PCA model to map them back onto Yamnet's latent space. Downstream Yamnet processing is then executed to illustrate the effect on its classification.\n",
    "\n",
    "**Time:** This step takes ca. 10 minutes.\n",
    "\n",
    "**Memory:** This step requires much less than the 12 GB RAM of Google Colab.\n",
    "\n",
    "**Storage:** This step requires very little storage, on the order of kb, since only figures are stored.\n",
    "\n",
    "*Local Machine:* Run the script LatentAudio/scripts/evaluate_disentangle.py\n",
    "\n",
    "*Colab:* Execute the below cell"
   ]
  },
  {
   "cell_type": "code",
   "execution_count": null,
   "id": "366117b6",
   "metadata": {},
   "outputs": [],
   "source": [
    "# Run the evaluate disentangle script\n",
    "%%shell\n",
    "eval \"$(conda shell.bash hook)\"\n",
    "conda activate latent_audio_env\n",
    "\n",
    "python LatentAudio/scripts/evaluate_disentangle.py"
   ]
  }
 ],
 "metadata": {
  "kernelspec": {
   "display_name": "latent_audio_env",
   "language": "python",
   "name": "python3"
  },
  "language_info": {
   "codemirror_mode": {
    "name": "ipython",
    "version": 3
   },
   "file_extension": ".py",
   "mimetype": "text/x-python",
   "name": "python",
   "nbconvert_exporter": "python",
   "pygments_lexer": "ipython3",
   "version": "3.9.23"
  }
 },
 "nbformat": 4,
 "nbformat_minor": 5
}
