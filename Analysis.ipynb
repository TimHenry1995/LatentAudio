{
 "cells": [
  {
   "cell_type": "markdown",
   "id": "8069ccc6",
   "metadata": {
    "id": "8069ccc6"
   },
   "source": [
    "# Latent Audio\n",
    "\n",
    "The goal of this work was to disentangle the latent space of sound-event recognition model [Yamnet](https://www.tensorflow.org/hub/tutorials/yamnet) into materials and actions. For detailed explanations of our experiments, please refer to our [research paper](https://papers.ssrn.com/sol3/papers.cfm?abstract_id=4979651). The below code will guide the user through our analysis. "
   ]
  },
  {
   "cell_type": "markdown",
   "id": "8a449aa8",
   "metadata": {
    "id": "8a449aa8"
   },
   "source": [
    "## Installation\n",
    "The code for this project has been run successfully on Windows, Intel-based Mac and Linux machines that are capable of running Python 3.9 with tensorflow 2.9. Tests on Apple Silicon were unsuccesful and users are thus encouraged to switch platform, e.g. to [Google Colab](https://colab.google). It is recommended that you do not simply run all code cells, but read step by step what each cell does and only execute it as described in the accompanying text cells. If you are on your local machine, you will not actually need any code cells from here, but instead run the referenced scripts manually. If you are on Colab, then you will need to use the code cells in order to run these scripts from within the notebook. For the start, it is enough to simply run the scripts with their default configurations. Yet, once you are familiar with the overall procedure of the analysis, you are encouraged to also look at the corresponding scripts to learn more about their implementation. You can also make changes to them if needed. Since LatentAudio is merely a collection of scripts and not a built Python package, any changes made to the scripts will have immediate effect and thus no rebuilding from source is necessary."
   ]
  },
  {
   "cell_type": "markdown",
   "id": "4dd6a046",
   "metadata": {
    "id": "4dd6a046"
   },
   "source": [
    "### Local Machine (Windows or Intel-based Mac)"
   ]
  },
  {
   "cell_type": "markdown",
   "id": "42091258",
   "metadata": {
    "id": "42091258"
   },
   "source": [
    "**Workspace:** Make sure you have a code editor such as [Visual Studio Code](https://code.visualstudio.com) with Python support as well as the package managers [Conda](https://www.anaconda.com) and [Git](https://desktop.github.com/download/) installed. Then, open your code editor and set its project folder to something convenient. Next, open the code editor's terminal, typically using a top left menu option.\n",
    "\n",
    "**Conda Environment:** It is required to create a custom conda environment with Python 3.9 for this project and install all required software packages in there. Here is the terminal command:\n",
    "```\n",
    "conda create -n \"latent_audio_env\" python=3.9 ipython\n",
    "conda activate latent_audio_env\n",
    "```\n",
    "Then, verify that the `latent_audio_env` conda environemnt was actually activated using the command `conda info --envs` and making sure that a star (*) is next to latent_audio_env in the printed list.\n",
    "\n",
    "**Download Project Folder:** Now, we download the LatentAudio project folder from Github. This may take up to 10 minutes because the data used for the analysis needs to be downloaded, too. Note that this folder will contain a copy of this notebook, but we recommend you keep using the current notebook such that the paths to the Python scripts located in the LatentAudio folder can be found more easily.\n",
    "\n",
    "```\n",
    "git clone https://github.com/TimHenry1995/LatentAudio.git\n",
    "```\n",
    "\n",
    "**Install packages:** We can install its required packages automatically using the pip manager:\n",
    "\n",
    "```\n",
    "cd LatentAudio\n",
    "python -m pip install -r requirements.txt\n",
    "cd ..\n",
    "```\n",
    "It is important that the line `cd ..` is executed after installation succeeded, because otherwise, this notebook will not find the paths to the Python scripts of LatentAudio.\n",
    "\n",
    "**Jupyter Kernel:** Make sure you select the jupyter kernel (latent_audio_env) of this environment for this jupyter notebook. In VSCode, you can typcially choose the kernel of an open notebook in the top right corner."
   ]
  },
  {
   "cell_type": "markdown",
   "id": "e9ac2f69",
   "metadata": {
    "id": "e9ac2f69"
   },
   "source": [
    "### Google Colab\n",
    "In order to setup the same environment that was used for the original latent audio experiments, we emulate a conda environment using [this](https://stackoverflow.com/questions/79560376/custom-jupyter-kernel-on-google-colab) tutorial. This involves first installing miniconda with the desired Python version and then downloading the project code and installing its required libraries with their corresponding versions. If you like, you can also link your Google drive to this runtime, such that you can save results from the analysis to it. Thereafter, we need to adopt a coding routine in which each code cell first activates our new environment and then calls a pre-written Python script from the project folder that performs part of the analysis. If you wish to adjust the analysis, you need to reconfigure the corresponding script. \n",
    "\n",
    "**1. Setup Conda Environment:** We first install miniconda and then create a python 3.9 environment as follows."
   ]
  },
  {
   "cell_type": "code",
   "execution_count": 1,
   "id": "137030c4",
   "metadata": {
    "colab": {
     "base_uri": "https://localhost:8080/"
    },
    "executionInfo": {
     "elapsed": 54,
     "status": "ok",
     "timestamp": 1753425398676,
     "user": {
      "displayName": "Tim Dick",
      "userId": "08454406066867239847"
     },
     "user_tz": -120
    },
    "id": "137030c4",
    "outputId": "c5703ff3-9daf-4144-c48a-b4ffd869d0d4"
   },
   "outputs": [
    {
     "name": "stdout",
     "output_type": "stream",
     "text": [
      "env: PYTHONPATH=\n"
     ]
    }
   ],
   "source": [
    "# Parameters\n",
    "%env PYTHONPATH =\n",
    "PYTHON_VERSION = \"3.9\""
   ]
  },
  {
   "cell_type": "code",
   "execution_count": null,
   "id": "61587fe3",
   "metadata": {
    "colab": {
     "base_uri": "https://localhost:8080/"
    },
    "executionInfo": {
     "elapsed": 2701,
     "status": "ok",
     "timestamp": 1753425542424,
     "user": {
      "displayName": "Tim Dick",
      "userId": "08454406066867239847"
     },
     "user_tz": -120
    },
    "id": "61587fe3",
    "outputId": "96c2f39a-0c55-45c5-bf83-939de0e9bae5"
   },
   "outputs": [],
   "source": [
    "# Install conda\n",
    "!wget https://repo.anaconda.com/miniconda/Miniconda3-latest-Linux-x86_64.sh\n",
    "!sudo chmod +x Miniconda3-latest-Linux-x86_64.sh\n",
    "!./Miniconda3-latest-Linux-x86_64.sh -b -f -p /usr/local\n",
    "!conda tos accept --override-channels --channel https://repo.anaconda.com/pkgs/main\n",
    "!conda tos accept --override-channels --channel https://repo.anaconda.com/pkgs/r\n",
    "!conda update --yes conda\n",
    "\n",
    "import sys\n",
    "sys.path.append(f'/usr/local/lib/python{PYTHON_VERSION}/site-packages')\n",
    "\n",
    "!conda create -n latent_audio_env python={PYTHON_VERSION} --yes\n",
    "!apt-get install libtinfo5"
   ]
  },
  {
   "cell_type": "code",
   "execution_count": null,
   "id": "3Ut044GvjNjE",
   "metadata": {
    "colab": {
     "base_uri": "https://localhost:8080/"
    },
    "executionInfo": {
     "elapsed": 2134,
     "status": "ok",
     "timestamp": 1753425604460,
     "user": {
      "displayName": "Tim Dick",
      "userId": "08454406066867239847"
     },
     "user_tz": -120
    },
    "id": "3Ut044GvjNjE",
    "outputId": "ee25b630-f8d0-433b-ac85-0b7cbcc102a7"
   },
   "outputs": [],
   "source": [
    "# Check whether python 3.9.x is running\n",
    "%%shell\n",
    "eval \"$(conda shell.bash hook)\"\n",
    "conda activate latent_audio_env\n",
    "python --version"
   ]
  },
  {
   "cell_type": "markdown",
   "id": "06292dbb",
   "metadata": {
    "id": "06292dbb"
   },
   "source": [
    "**2. Download Project Code:** We download the Github repository as follows. Note that this will simply become another folder in Colab's working directory."
   ]
  },
  {
   "cell_type": "code",
   "execution_count": null,
   "id": "fcd533de",
   "metadata": {
    "colab": {
     "base_uri": "https://localhost:8080/"
    },
    "executionInfo": {
     "elapsed": 283378,
     "status": "ok",
     "timestamp": 1753425897270,
     "user": {
      "displayName": "Tim Dick",
      "userId": "08454406066867239847"
     },
     "user_tz": -120
    },
    "id": "fcd533de",
    "outputId": "454fe97e-ccf5-4eb8-8647-d2f836eef1bf"
   },
   "outputs": [],
   "source": [
    "!git clone https://github.com/TimHenry1995/LatentAudio.git"
   ]
  },
  {
   "cell_type": "markdown",
   "id": "68a49a54",
   "metadata": {
    "id": "68a49a54"
   },
   "source": [
    "**3. Install Required Dependencies:**\n",
    "- The dependencies can be installed using the list given in `LatentAudio/requirements.txt`."
   ]
  },
  {
   "cell_type": "code",
   "execution_count": null,
   "id": "203dd806",
   "metadata": {
    "colab": {
     "base_uri": "https://localhost:8080/"
    },
    "executionInfo": {
     "elapsed": 108021,
     "status": "ok",
     "timestamp": 1753426045181,
     "user": {
      "displayName": "Tim Dick",
      "userId": "08454406066867239847"
     },
     "user_tz": -120
    },
    "id": "203dd806",
    "outputId": "aff1dffb-e4e3-49ca-b183-820e117d216b"
   },
   "outputs": [],
   "source": [
    "# All regular dependencies (excluding pysndfx and sox)\n",
    "%%shell\n",
    "eval \"$(conda shell.bash hook)\"\n",
    "conda activate latent_audio_env\n",
    "python -m pip install -r LatentAudio/requirements.txt"
   ]
  },
  {
   "cell_type": "markdown",
   "id": "651dcd1d",
   "metadata": {
    "id": "651dcd1d"
   },
   "source": [
    "**4. Manage Storage:** Next, if your google drive has ca. 60 GB of free storage, it is recommended to link your [Google Drive](https://drive.google.com/drive/home) to Colab using the login menu on the left side (small folder icon). This will allow you to save results of the analysis to your personal drive in case Colab closes your runtime before you can download them manually."
   ]
  },
  {
   "cell_type": "code",
   "execution_count": 10,
   "id": "f5b7fbc5",
   "metadata": {
    "colab": {
     "base_uri": "https://localhost:8080/"
    },
    "executionInfo": {
     "elapsed": 27998,
     "status": "ok",
     "timestamp": 1753426073195,
     "user": {
      "displayName": "Tim Dick",
      "userId": "08454406066867239847"
     },
     "user_tz": -120
    },
    "id": "f5b7fbc5",
    "outputId": "54b91b1c-2a94-4faf-a222-7afe8a2a6c1d"
   },
   "outputs": [
    {
     "name": "stdout",
     "output_type": "stream",
     "text": [
      "Mounted at /content/drive\n"
     ]
    }
   ],
   "source": [
    "from google.colab import drive\n",
    "drive.mount('/content/drive')"
   ]
  },
  {
   "cell_type": "markdown",
   "id": "b9d828cc",
   "metadata": {
    "id": "b9d828cc"
   },
   "source": [
    "## Analysis"
   ]
  },
  {
   "cell_type": "markdown",
   "id": "3813afad",
   "metadata": {
    "id": "3813afad"
   },
   "source": [
    "![process diagram.jpg](data:image/jpeg;base64,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)"
   ]
  },
  {
   "cell_type": "markdown",
   "id": "a9b514a1",
   "metadata": {
    "id": "a9b514a1"
   },
   "source": [
    "The analysis consists of multiple steps which involve the mapping of sounds from their acoustic representation to a latent Yamnet one, the classification of these latent representations as well as the disentanglement of material and action factors. The above diagram illustrates the full analysis plan. When it comes to creating PCA models and scalers to project the latent Yamnet representations to a more manageable dimensionality, there are two options.\n",
    "- The first option is to compute the small PCA models, meaning they are only used in the forward direction, e.g. from several thousand latent yamnet dimensions to 64 target dimensions. These are needed for all layers to run step 3 (latent_yamnet_to_calibraiton_data_set) and step 4 (expore_latent_yamnet) which visualizes the latent space in a 2D t-SNE projection and performs layer-wise material and action classification using KNN.\n",
    "- By contrast, the complete PCA model that can also be used to map projected representations back to their original dimensionality requires a large amount of computing resources. It only makes sense to do it for layer 8, since here Yamnet's original dimensionality is sufficiently low to afford a complete PCA model. Also, these layers tend to represent materials and sounds of actions most strongly, which makes them best suited for disentanglement of these two factors. The evaluate_disentangle script (step 6) will take the flow model to disentangle sounds, e.g. of layer 8, then perturb their material (or action) value and use the complete PCA model of that layer to project the adjusted sounds back onto Yamnet's original layer 8 latent space. It then continues Yamnet's downward processing to study the effect of the perturbations on Yamnet's output classes.\n",
    "\n",
    "Hence, if your final goal was to only run step 4 (explore_latent_yamnet), then you would only need to make sure you have your latent yamnet representations of all sounds and the small PCA models and standard scalers for all Yamnet layers. However, if you wanted to do the causal experiments that involve perturbing action and material properties in Yamnet's layer 8, then you need to make sure you have the complete PCA model and its standard scalers for the layer of interest (step 2) and then run steps 3, 5 and 6.\n",
    "\n",
    "The below sections guide you through the different analysis steps. You can visit each section upon interest. Watch out for the requirements of each section to see whether you need to have executed a prior section beforehand. You will see that the code snippets always just call existing functions defined in the `LatentAudio/scripts folder` of our code repository. Feel free to adjust these scripts to your needs."
   ]
  },
  {
   "cell_type": "markdown",
   "id": "6850d1e3",
   "metadata": {
    "id": "6850d1e3"
   },
   "source": [
    "### Configuration\n",
    "Before starting the analysis, it makes sense to set a few configuration parameters and save them to a file. We prepared a simple configuration for you using the below code cell and saved it to `LatentAudio/configurations/Simple Configuration.json`. You can see in the file `LatentAudio/configurations/selected.txt` that this simple configuration is the one that is chosen by default. The subsequent scripts that execute the analysis will use this simple configuration. This will result in a shortened version of the analysis from our accompanying paper that will demonstrate the highlights of our analysis with minimal time and storage requirements. We also provide the `From Paper Configuration.json` which will give you the same analysis as we present in our paper. To use it, change the content of `LatentAudio/configurations/selected.txt` to 'configuration_from_paper'. If you want to experiment with your own configuration, use the below code cell to create one. Make sure to assign it a descriptive name."
   ]
  },
  {
   "cell_type": "code",
   "execution_count": null,
   "id": "3d8d1136",
   "metadata": {},
   "outputs": [],
   "source": [
    "import os\n",
    "import json\n",
    "\n",
    "# Set parameters\n",
    "configuration_name = 'simple configuration'\n",
    "random_seed = 42\n",
    "project_folder = ['LatentAudio'] # Your terminal/ code editor is likley pointing to the latent audio folder right now. You can leave it like this for the time being. However, if you want to use your own data or models, you might want to set this path variable to a more convenient folder, here.\n",
    "external_hard_drive_path = project_folder # After concatenation, this gives a path to a folder that is used to store all (intermediate and final) results of the analysis. If you have an external hard-drive, we recommend to set this path to a folder on that hard-drive. If you are on Google Colab, the session storage should be sufficient. But. remember that it will get deletd once your Colab runtime is destroyed.\n",
    "layer_indices = [0,9,13]\n",
    "material_to_index = {\"W\":0,\"G\":1,\"P\":2,\"S\":3,\"C\":4}\n",
    "action_to_index = {\"T\":0,\"R\":1,\"W\":2}\n",
    "stage_count = 3 # Determines the size of the flow model\n",
    "epoch_count = 100 # Determines the number of epochs for training the flow model\n",
    "\n",
    "\n",
    "configuration = {\n",
    "  # Configuration\n",
    "  'name': configuration_name,\n",
    "  'steps' : [\n",
    "    {\n",
    "      'script' : 'audio_to_latent_yamnet',\n",
    "      'arguments' :\n",
    "      {\n",
    "      'sounds_folder': project_folder + ['data','sounds','complete'],\n",
    "      'sound_file_names': [f\"{m}{a}.wav\" for m in material_to_index.keys() for a in action_to_index.keys()], # Ensuring the only process the sound files for the selected materials and actions (efficiency)\n",
    "      'latent_representations_folder': external_hard_drive_path + [configuration_name,'data','latent','original'],# Will store the original and projected latent yamnet representations for each layer for each sound. Since this requires tens of gigabytes, you might want to direct this to an external hard-drive.\n",
    "      'layer_indices': layer_indices,\n",
    "      'time_frames_per_slice': 10,\n",
    "      'offset': 1,\n",
    "      'figure_folder': external_hard_drive_path + [configuration_name,'figures']\n",
    "      }\n",
    "    },\n",
    "    {\n",
    "      'script' : 'create_scalers_and_PCA_model_for_latent_yamnet',\n",
    "      'arguments' :\n",
    "      {\n",
    "      'latent_representations_folder': external_hard_drive_path + [configuration_name,'data','latent','original'],\n",
    "      'PCA_and_standard_scaler_folder': external_hard_drive_path + [configuration_name,'models','pca and standard scalers'],\n",
    "      'layer_indices': [8],\n",
    "      'target_dimensionalities': [None], # None means a full PCA model\n",
    "      'random_seeds': [random_seed] * len(layer_indices), # Each layer gets its own seed, for simplicity, we set all equal\n",
    "      'sample_sizes': [None] # None means that the sample size will be 1.1 * target dimensionality which gives 11246 for layer 8. Here, we set it to the same number for all other layers\n",
    "      }\n",
    "    },\n",
    "    {\n",
    "      'script' : 'apply_scalers_and_PCA_to_latent_yamnet',\n",
    "      'arguments' :\n",
    "      {\n",
    "      'latent_representations_folder': external_hard_drive_path + [configuration_name,'data','latent','original'],\n",
    "      'PCA_and_standard_scaler_folder': external_hard_drive_path + [configuration_name,'models','pca and standard scalers'],\n",
    "      'layer_indices': [8],\n",
    "      'target_dimensionalities': [64], # All should project to the same dimensionality now\n",
    "      'projection_folder': external_hard_drive_path + [configuration_name,'data','latent','pca projected'],\n",
    "      'file_name_prefix_to_factor_wise_label':  {f\"{m}{a}\" : [material_to_index[m], action_to_index[a]] for m in material_to_index.keys() for a in action_to_index.keys()}, # File names are of the form MA, where M is the material abbreviation and A the action abbreviation\n",
    "      'figure_folder':  external_hard_drive_path + [configuration_name,'figures']\n",
    "      }\n",
    "    },\n",
    "    {\n",
    "      'script' : 'explore_latent_yamnet',\n",
    "      'arguments' :\n",
    "      {\n",
    "      'pca_projected_folder': external_hard_drive_path + [configuration_name,'data','latent','pca projected'],\n",
    "      'layer_indices': layer_indices,\n",
    "      'random_seeds': [random_seed] * len(layer_indices),\n",
    "      'sample_sizes': [3000] * len(layer_indices),\n",
    "      'factor_name': 'Material',\n",
    "      'factor_index': 0,\n",
    "      'cross_validation_folds': 10,\n",
    "      'neighbor_count': 10,\n",
    "      'class_index_to_name': {value:key for key, value in material_to_index.items()},\n",
    "      'figure_folder':  external_hard_drive_path + [configuration_name,'figures']\n",
    "      }\n",
    "    },\n",
    "    {\n",
    "      'script' : 'explore_latent_yamnet',\n",
    "      'arguments' :\n",
    "      {\n",
    "      'pca_projected_folder': external_hard_drive_path + [configuration_name,'data','latent','pca projected'],\n",
    "      'layer_indices': layer_indices,\n",
    "      'random_seeds': [random_seed] * len(layer_indices),\n",
    "      'sample_sizes': [3000] * len(layer_indices),\n",
    "      'factor_name': 'Action',\n",
    "      'factor_index': 1,\n",
    "      'cross_validation_folds': 10,\n",
    "      'neighbor_count': 10,\n",
    "      'class_index_to_name': {value:key for key, value in action_to_index.items()},\n",
    "      'figure_folder':  external_hard_drive_path + [configuration_name,'figures']\n",
    "      }\n",
    "    },\n",
    "    {\n",
    "      'script' : 'disentangle',\n",
    "      'arguments' :\n",
    "      {\n",
    "      'random_seed': random_seed,\n",
    "      'stage_count': stage_count,\n",
    "      'batch_size': 1024,\n",
    "      'epoch_count': epoch_count,\n",
    "      'learning_rate': 0.001,\n",
    "      'validation_proportion': 0.3,\n",
    "      'dimensions_per_factor': [62,1,1], # In order of residual factor, material factor, action factor\n",
    "      'factor_index_to_included_class_indices': {0: list(material_to_index.values()), 1: list(action_to_index.values())},\n",
    "      'pca_projected_folder': external_hard_drive_path + [configuration_name,'data','latent','pca projected','Layer 8'],\n",
    "      'flow_model_folder': external_hard_drive_path + [configuration_name, str(random_seed), 'models','flow'],\n",
    "      'figure_folder':  external_hard_drive_path + [configuration_name, str(random_seed), 'figures']\n",
    "      }\n",
    "    },\n",
    "    {\n",
    "      'script' : 'evaluate_disentangle',\n",
    "      'arguments' :\n",
    "      {\n",
    "      'stage_count': stage_count,\n",
    "      'epoch_count': epoch_count,\n",
    "      'dimensions_per_factor': [62,1,1], # In order of residual factor, material factor, action factor\n",
    "      'random_seed': random_seed,\n",
    "      'validation_proportion': 0.3,\n",
    "      'factor_index_to_z_tilde_dimension': {0:62, 1:63},\n",
    "      'factor_index_to_y_dimension': {0:0, 1:1},\n",
    "      'factor_index_to_included_class_indices_to_names': {0: {value: key for key, value in material_to_index.items()}, 1: {value: key for key, value in action_to_index.items()}},\n",
    "      'factor_index_to_name': {0:'Material',1:'Action'},\n",
    "      'latent_representations_folder': external_hard_drive_path + [configuration_name,'data','latent','original','Layer 8'],\n",
    "      'layer_index': 8,\n",
    "      'pca_projected_folder': external_hard_drive_path + [configuration_name,'data','latent','pca projected','Layer 8'],\n",
    "      'PCA_and_standard_scaler_folder': external_hard_drive_path + [configuration_name,'models','pca and standard scalers','Layer 8'],\n",
    "      'flow_model_folder': external_hard_drive_path + [configuration_name,(str)(random_seed), 'models','flow'],\n",
    "      'figure_folder':  external_hard_drive_path + [configuration_name,(str)(random_seed), 'figures'],\n",
    "      'file_name_prefix_to_factor_wise_label':  {f\"{m}{a}\" : [material_to_index[m], action_to_index[a]] for m in material_to_index.keys() for a in action_to_index.keys()}, # File names are of the form MA, where M is the material abbreviation and A the action abbreviation\n",
    "      }\n",
    "    }\n",
    "  ],\n",
    "}\n",
    "# Write configuration to file\n",
    "with open(os.path.join(*project_folder+['configurations', configuration['name'] + '.json']),'w') as f:\n",
    "  json.dump(configuration,f)"
   ]
  },
  {
   "cell_type": "markdown",
   "id": "471698df",
   "metadata": {
    "id": "471698df"
   },
   "source": [
    "### (1) Waveform to Latent Yamnet\n",
    "**Description:** This step takes all sounds from the data set, ensures they are 5.28-second long snippets and passes them through Yamnet. Then, at each layer of Yamnet, it extracts the representations, flattens them and saves them to disk.\n",
    "\n",
    "**Necessity:** This step is necessary such that we can explore the latent representations with PCA, t-SNE and KNN (step 4) as well as disentangle and manipulate them (steps 5 and 6).\n",
    "\n",
    "**Time:** This step took approximately 1 hour, in our Google Colab test on the raw data (i.e. without augmentation).\n",
    "\n",
    "**Memory:** This step requires less than 12GB RAM.\n",
    "\n",
    "**Storage:** This step produces ca. 46GB of storage in case of using only the raw data (i.e. without augmentation).\n",
    "\n",
    "**Pre-requisites:**\n",
    "- You need to have a set of sounds that are recorded according to a fully factorized design. Here, we use the two factors material and action. Our materials are  plastic, cardboard, glass, wood and stone and our actions are hitting, rubbing and whirling. This yields 5 material x 3 action = 15 conditions. For each condition, we recorded 10 minutes of continuous, monaural sound at 16kHz with int16 bit rate. The sound files are located in 'data/raw audio' and stored as .wav files whose file names consist of the initial letters of the corresponding material and action. You can use our data that was automatically downloaded with this repository. If you prefer, you can use your own data instead, but make sure to use the same format.\n",
    "\n",
    "**Code Execution:** The below code navigates to the corresponding script, calls it with the -h argument to show how it is used and then uses it in conjunction with the our configuration file.\n",
    "\n",
    "- *Local Machine:* Execute the below commands in your terminal. Note, on Unix-based systems you might need to replace the \\ with a /\n",
    "    ```\n",
    "    python LatentAudio\\scripts\\audio_to_latent_yamnet.py -h\n",
    "    python LatentAudio\\scripts\\audio_to_latent_yamnet.py --configuration_file_path 'LatentAudio\\configurations\\simple' --configuration_step 0\n",
    "    ```\n",
    "\n",
    "- *Colab:* Execute the below code cell."
   ]
  },
  {
   "cell_type": "code",
   "execution_count": null,
   "id": "456a4c18",
   "metadata": {
    "id": "456a4c18"
   },
   "outputs": [],
   "source": [
    "# Run the data audio to latent yamnet script\n",
    "%%shell\n",
    "eval \"$(conda shell.bash hook)\"\n",
    "conda activate latent_audio_env\n",
    "\n",
    "# See how to use the script\n",
    "python LatentAudio/scripts/audio_to_latent_yamnet.py -h\n",
    "\n",
    "# Use the script with the simple configuration\n",
    "python LatentAudio/scripts/audio_to_latent_yamnet.py --configuration_file_path 'LatentAudio\\configurations\\simple' --configuration_step 0"
   ]
  },
  {
   "cell_type": "markdown",
   "id": "4654242e",
   "metadata": {
    "id": "4654242e"
   },
   "source": [
    "### (2) Fitting Principal Component Models and Standard Scalers\n",
    "**Description:** In order to analyze the latent representations of Yamnet, we decided to project them to a more manageable dimensionality with the help of principal component analysis (PCA). PCA assumes that the original dimensions are all on the same scale, hence we fit a pre-PCA standard scaler. After projecting the data, we also use a post-PCA standard scaler to make sure also the projections are on a standard scale which helps with downstream modelling. In the current step, we simply save these standard scalers and PCA models to disk. The actual scaling and projection of the data will be performed in step 3.\n",
    "\n",
    "**Necessity:** This step is necessary to reduce the computational overload of steps 3, 4, 5 and 6.\n",
    "\n",
    "**Time:** This step took ca. 30 minutes in our Google Colab test. Of these 30 minutes, ca 10 were devoted to creating small PCA models and standard scalers for all Yamnet layers except layer 1 (0 index-based) which would require too much memory (see below). The remaining 20 minutes were spent on creating 1 large PCA model and standard scalers for layer 8.\n",
    "\n",
    "**Memory:** With our here provided configuration, this step required less than 12 GB of RAM. This covers setting up small PCA models and standard scalers for all Yamnet layers except layer 1 (0 index-based) as well as a large PCA model and standard scalers for layer 8. In separate tests on our local computer with 16GB RAM we were able to create an additional small PCA model and standard scalers also for layer 1.\n",
    "\n",
    "**Storage:** With out here provided configuration (skipping layer 1), this step created a total of 0.68 GB of storage. Of these 0.68 GB, ca. 0.08 GB of storage were used for the small PCA models and standard scalers and the remaining ca. 0.6 GB of storage for the large PCA model and standard scaler for layer 8. On Google Colab, you will probably get a warning that you are approaching the storage limit. You can ignore this warning.\n",
    "\n",
    "**Pre-requisites:** The layerwise Yamnet representations of sound need to be available (see step 1).\n",
    "\n",
    "**Important technical note:** The process of fitting a PCA model to data is fast when the output dimensionality of PCA is small. This will suffice for most layers, namely those for which we do visualization (step 4 and parts of steps 5 and 6). Yet, when it comes to making perturbations to the disentangled latent space and measuring their effect on Yamnet's classification, we need PCA to be invertible. This only works if we have a PCA model of complete dimensionality, meaning same input as output dimensionality. Since it takes a large amount of time to fit such a PCA model, we decided to do this only for the Yamnet layer that best distinguishes materials and actions (as determined in step 4). For us, this was typically layer 8 and thus we show results for that layer in the paper. We observed slight variations depending on the sampling procedure with which data points are selected to be fed into our modelling pipeline. In the below code, we use layer 8 since that seemed best according to the exploratory analysis (step 4, see below).\n",
    "\n",
    "**Interpretation of Results:** The current step also produces a few plots. The first plot shows for each layer the distribution of the proportion of explained variance across the projected number of dimensions (see configuration['PCA_target_dimensionality']). Each section in a bar corresponds to one such dimension. The dimensions are ordered by their respective proportions. The second plot shows how many dimensions each layer of the original Yamnet model had. You will see that only the layers of configuration['layer_indices_small_PCA'] and configuration['layer_index_full_PCA'] are included.\n",
    "\n",
    "*Local Machine:* Run the script LatentAudio/scripts/create_scalers_and_PCA_model_for_latent_yamnet.py --configuration_file_path 'LatentAudio\\configurations\\simple' --configuration_step 1\n",
    "\n",
    "*Colab:* Execute the below cell"
   ]
  },
  {
   "cell_type": "code",
   "execution_count": null,
   "id": "b64fc81a",
   "metadata": {
    "id": "b64fc81a"
   },
   "outputs": [],
   "source": [
    "# Run the create_scalers_and_PCA_model_for_latent_yamnet script\n",
    "%%shell\n",
    "eval \"$(conda shell.bash hook)\"\n",
    "conda activate latent_audio_env\n",
    "\n",
    "python LatentAudio/scripts/create_scalers_and_PCA_model_for_latent_yamnet.py --configuration_file_path 'LatentAudio\\configurations\\simple' --configuration_step 1"
   ]
  },
  {
   "cell_type": "markdown",
   "id": "86902b63",
   "metadata": {
    "id": "86902b63"
   },
   "source": [
    "### (3) Prepare projections of latent Yamnet for model training\n",
    "**Description:** In this step, the latent representations of the individual sounds output by step 1 will be passed through the standard scalers and PCA from step 2 and saved into one unified matrix of shape [instance count, projected dimensionality] stored as X.npy. Next to that, a file called Y.npy will be created that is a matrix of shape [instance count, factor count], collecting the corresponding factor-wise label indices. Note, the output files will overwrite any existing files of same name at the given path (if existent).\n",
    "\n",
    "**Necessity:** This step is necessary to calibrate the different models of steps 4 (t-SNE, KNN) and 5 (disentangling flow model) as well as to run the statistical tests in step 6.\n",
    "\n",
    "**Time:** This step took ca. 75 minutes in our test on Google Colab that excluded layer 1 and used no data augmentation.\n",
    "\n",
    "**Memory:** This step required us less than 12 GB of memory if layer 1 was excluded and no data augmentation was used.\n",
    "\n",
    "**Storage:** This step produced ca 0.1 GB of storage, if layer 1 was excluded and no data was augmented.\n",
    "\n",
    "**Pre-requisites:** It is assumed that the layer-wise latent Yamnet representations (step 1) as well as the standard scalers and small PCA models (step 2) for the layers at configuration['layer_indices_small_PCA'] and configuration['layer_index_large_PCA'] are available.\n",
    "\n",
    "**Important technical note:** Most layers will be projected with the small PCA models and standard scalers. Only the layer that shall be disentangled in step 5 and 6 will be projected with the large PCA model because that one is the only invertible one.\n",
    "\n",
    "*Local Machine:* Run the script LatentAudio/scripts/latent_yamnet_to_calibration_data_set.py --configuration_file_path 'LatentAudio\\configurations\\simple' --configuration_step 2\n",
    "\n",
    "*Colab:* Execute the below cell\n"
   ]
  },
  {
   "cell_type": "code",
   "execution_count": null,
   "id": "7bad3ad5",
   "metadata": {
    "id": "7bad3ad5"
   },
   "outputs": [],
   "source": [
    "# Run the latent_yamnet_to_calibration_data_set script\n",
    "%%shell\n",
    "eval \"$(conda shell.bash hook)\"\n",
    "conda activate latent_audio_env\n",
    "\n",
    "python LatentAudio/scripts/latent_yamnet_to_calibration_data_set.py --configuration_file_path 'LatentAudio\\configurations\\simple' --configuration_step 2"
   ]
  },
  {
   "cell_type": "markdown",
   "id": "427129d5",
   "metadata": {
    "id": "427129d5"
   },
   "source": [
    "Now, the pre-processing is completed. The only data structures needed from here on are\n",
    "- The latent Yamnet projected X and their Y matrices (all layers)\n",
    "- The original x and y files of latent representations of sounds (only for layer with full PCA)\n",
    "- The full dimensionality scalers and PCA models\n",
    "\n",
    "All other files are no longer needed for the subsequent processing and may be deleted to save storage."
   ]
  },
  {
   "cell_type": "markdown",
   "id": "a3474d8f",
   "metadata": {
    "id": "a3474d8f"
   },
   "source": [
    "### (4) Explore latent Yamnet\n",
    "**Description:** This step loads the layerwise latent yamnet projections from step 3, fits a cross-validated k-nearest neighbor model to each to predict materials and actions and creates a 2D projection for the first, most accurate and last layers using t-distributed stochastic neighborhood embeddings (t-SNE).\n",
    "All created plots are saved at the figure output folder, where they replace any existing plots of same name (if existent).\n",
    "\n",
    "**Time:** This step took ca. 5 minutes in our Google Colab test run which excluded layer 1.\n",
    "\n",
    "**Memory:** The memory required for this step is well below 12GB.\n",
    "\n",
    "**Storage:** The storage required for this step is on the order of kb, since only a few figures are saved.\n",
    "\n",
    "**Necessity:** This step is optional, yet recommended in order to better understand to what extent material and action properties are represented in Yamnet's latent space.\n",
    "\n",
    "**Pre-requisites:** Assumes that the calibration data X.npy and Y.npy (step 3) are available.\n",
    "\n",
    "**Technical note:** The previous discussion of technical notes indicated that for layer 1, no projection from original latent dimensionality to a lower, more manageable dimensionality could be made. This is of no concern here, because the below function automatically selects only the available projections found in the latent data folder. Another issue discussed above was that layer 8 would be projected with the full PCA model while other layers would be projected with a small PCA model. This is also of no concern here, because the current step only processes the existing projections. It is indifferent to how the projections were obtained. You should, nonetheless, be able to verify that the layer chosen for full PCA model allows for the most accurate recognition of material (and action) classes. This observation justifies our earlier selection of layer 8 as the only layer for which a full PCA model was afforded. If you find that layer 9 is most accurate in the below outputs, do not be too concerned. The overall conclusions here as well as in later steps will remain the same. So, you can safely continue with your full PCA model for layer 8 from here on, rather than rebuilding the full PCA model for layer 9.\n",
    "\n",
    "**Interpretation of Results:** The below cell will produce several results for the material factor as well as the action factor. After fitting the KNN models in a k-fold cross-validation procedure for each available layer, it will check which one is the most accurate. It will then perform 3 statistical tests (t-tests), to determine whether the first layer, the most accurate and the last layer are each significantly different in terms of KNN classification accuracy. We typically observe that layer 8 (or sometimes layer 9, depending on some random aspects of instance selection) allows for most accurate recognition of material classes. Similarly for action classes. After showing the statistical test results, the function will also create box plots for the cross-validated accuracies and indicate the statistically tested pairs of layers with horizontal lines. A star above the line indicates significance at the 5% Bonferroni corrected level. Lastly, the function plots the t-SNE projections onto 2 arbitrary spatial dimensions for the first, most accurate and last layers with coloring according to the corresponding factor's classes. Here, we typically found that small pockets of similar instances are most pronounced in the most accurate layer. This is merely a visual sanity check to convince ourselves that, indeed, the corresponding material (or action) classes are present in the layer of interest.\n",
    "\n",
    "*Local Machine:* Run the scripts\n",
    "- LatentAudio/scripts/explore_latent_yamnet.py --configuration_file_path 'LatentAudio\\configurations\\simple' --configuration_step 3\n",
    "- LatentAudio/scripts/explore_latent_yamnet.py --configuration_file_path 'LatentAudio\\configurations\\simple' --configuration_step 4\n",
    "\n",
    "*Colab:* Execute the below cell"
   ]
  },
  {
   "cell_type": "code",
   "execution_count": null,
   "id": "9bb55f5e",
   "metadata": {
    "id": "9bb55f5e"
   },
   "outputs": [],
   "source": [
    "# Run the explore_latent_yamnet script\n",
    "%%shell\n",
    "eval \"$(conda shell.bash hook)\"\n",
    "conda activate latent_audio_env\n",
    "\n",
    "python LatentAudio/scripts/explore_latent_yamnet.py --configuration_file_path 'LatentAudio\\configurations\\simple' --configuration_step 3\n",
    "python LatentAudio/scripts/explore_latent_yamnet.py --configuration_file_path 'LatentAudio\\configurations\\simple' --configuration_step 4"
   ]
  },
  {
   "cell_type": "markdown",
   "id": "eaca741a",
   "metadata": {
    "id": "eaca741a"
   },
   "source": [
    "### (5) Disentangle Latent Yamnet\n",
    "**Description:** In this step, a flow model is calibrated on the projected latent represenetations to disentangle the underlying factors (material and action). Each factor shall be separated into their respective classes, independent of the other factor. Several plots are created to illustrate the process. The plots will overwrite any existing plots of same name.\n",
    "\n",
    "**Pre-requisites:** It is assumed that the calibration data set consisting of projected latent yamnet representations for the layer with full PCA was created apriori.\n",
    "\n",
    "**Time:** This step took us ca. 30 minutes for layer 8 run on the raw data (thus no augmentation). Yet, this may vary depending on how long you want to calibrate the model.\n",
    "\n",
    "**Memory:** This step requires less than 12GB of RAM.\n",
    "\n",
    "**Storage:** This step requires little storage, on the order of MB, and varies depending on how large you choose the model to be.\n",
    "\n",
    "*Local Machine:* Run the script LatentAudio/scripts/disentangle.py --configuration_file_path 'LatentAudio\\configurations\\simple' --configuration_step 5\n",
    "\n",
    "*Colab:* Execute the below cell"
   ]
  },
  {
   "cell_type": "code",
   "execution_count": null,
   "id": "72e31dd9",
   "metadata": {
    "id": "72e31dd9"
   },
   "outputs": [],
   "source": [
    "# Run the disentangle script\n",
    "%%shell\n",
    "eval \"$(conda shell.bash hook)\"\n",
    "conda activate latent_audio_env\n",
    "\n",
    "python LatentAudio/scripts/disentangle.py --configuration_file_path 'LatentAudio\\configurations\\simple' --configuration_step 5"
   ]
  },
  {
   "cell_type": "markdown",
   "id": "1eb8d43d",
   "metadata": {
    "id": "1eb8d43d"
   },
   "source": [
    "### (6) Evaluate Disentanglement\n",
    "**Description:** In this step, the disentangling flow model from step 5 is evaluated. This is done in two steps. The first step passes some latent Yamnet projections through the flow model and shows the first two dimensions of the disentangled space in a scatter plot. These two dimensions correspond to the material and action variation, respectively. All remaining dimensions are not shown, yet they are knwon to only represent uniformly distributed residual variance of the sounds. The second step permutes sounds along the material axis (or action axis) and uses the invertibility of the flow model and the full PCA model to map them back onto Yamnet's latent space. Downstream Yamnet processing is then executed to illustrate the effect on its classification.\n",
    "\n",
    "**Time:** This step takes ca. 10 minutes.\n",
    "\n",
    "**Memory:** This step requires much less than the 12 GB RAM of Google Colab.\n",
    "\n",
    "**Storage:** This step requires very little storage, on the order of kb, since only figures are stored.\n",
    "\n",
    "*Local Machine:* Run the script LatentAudio/scripts/evaluate_disentangle.py --configuration_file_path 'LatentAudio\\configurations\\simple' --configuration_step 6\n",
    "\n",
    "*Colab:* Execute the below cell"
   ]
  },
  {
   "cell_type": "code",
   "execution_count": null,
   "id": "366117b6",
   "metadata": {
    "id": "366117b6"
   },
   "outputs": [],
   "source": [
    "# Run the evaluate disentangle script\n",
    "%%shell\n",
    "eval \"$(conda shell.bash hook)\"\n",
    "conda activate latent_audio_env\n",
    "\n",
    "python LatentAudio/scripts/evaluate_disentangle.py --configuration_file_path 'LatentAudio\\configurations\\simple' --configuration_step 6"
   ]
  },
  {
   "cell_type": "markdown",
   "id": "3ba0b625",
   "metadata": {},
   "source": [
    "### Complete Configuration\n",
    "\n",
    "If you aim to replicate our work from the paper, use the below complete configuration. It uses the whole dataset (3x as large as the short set from before) and performs its calculates for all layers (except for the flow modeling)."
   ]
  },
  {
   "cell_type": "code",
   "execution_count": null,
   "id": "791163cc",
   "metadata": {},
   "outputs": [],
   "source": [
    "import os\n",
    "import json\n",
    "\n",
    "# Set parameters\n",
    "configuration_name = 'complete configuration'\n",
    "random_seed = 42\n",
    "project_folder = ['LatentAudio'] # Your terminal/ code editor is likley pointing to the latent audio folder right now. You can leave it like this for the time being. However, if you want to use your own data or models, you might want to set this path variable to a more convenient folder, here.\n",
    "external_hard_drive_path = [r'D:\\\\'] + project_folder # After concatenation, this gives a path to a folder that is used to store all (intermediate and final) results of the analysis. It will require up to 60 GB. If you have an external hard-drive, we recommend to set this path to a folder on that hard-drive. If you are on Google Colab, the session storage should be sufficient. But. remember that it will get deletd once your Colab runtime is destroyed.\n",
    "layer_indices = list(range(14))\n",
    "material_to_index = {\"W\":0,\"G\":1,\"P\":2,\"S\":3,\"C\":4}\n",
    "action_to_index = {\"T\":0,\"R\":1,\"W\":2}\n",
    "stage_count = 3\n",
    "epoch_count = 100\n",
    "\n",
    "configuration = {\n",
    "  # Configuration\n",
    "  'name': configuration_name,\n",
    "  'steps' : [\n",
    "    {\n",
    "      'script' : 'audio_to_latent_yamnet',\n",
    "      'arguments' :\n",
    "      {\n",
    "      'sounds_folder': project_folder + ['data','sounds','complete'],\n",
    "      'sound_file_names': [f\"{m}{a}.wav\" for m in material_to_index.keys() for a in action_to_index.keys()], # Ensuring the only process the sound files for the selected materials and actions (efficiency)\n",
    "      'latent_representations_folder': external_hard_drive_path + [configuration_name,'data','latent','original'],# Will store the original and projected latent yamnet representations for each layer for each sound. Since this requires tens of gigabytes, you might want to direct this to an external hard-drive.\n",
    "      'layer_indices': layer_indices,\n",
    "      'time_frames_per_slice': 10,\n",
    "      'offset': 1,\n",
    "      'figure_folder': external_hard_drive_path + [configuration_name,'figures']\n",
    "      }\n",
    "    },\n",
    "    {\n",
    "      'script' : 'create_scalers_and_PCA_model_for_latent_yamnet',\n",
    "      'arguments' :\n",
    "      {\n",
    "      'latent_representations_folder': external_hard_drive_path + [configuration_name,'data','latent','original'],\n",
    "      'PCA_and_standard_scaler_folder': external_hard_drive_path + [configuration_name,'models','pca and standard scalers'],\n",
    "      'layer_indices': [8],\n",
    "      'target_dimensionalities': [None], # None means a full PCA model\n",
    "      'random_seeds': [random_seed] * len(layer_indices), # Each layer gets its own seed, for simplicity, we set all equal\n",
    "      'sample_sizes': [None] # None means that the samples ize will be 1.1 * target dimensionality which gives 11246 for layer 8. Here, we set it to the same number for all other layers\n",
    "      }\n",
    "    },\n",
    "    {\n",
    "      'script' : 'apply_scalers_and_PCA_to_latent_yamnet',\n",
    "      'arguments' :\n",
    "      {\n",
    "      'latent_representations_folder': external_hard_drive_path + [configuration_name,'data','latent','original'],\n",
    "      'PCA_and_standard_scaler_folder': external_hard_drive_path + [configuration_name,'models','pca and standard scalers'],\n",
    "      'layer_indices': [8],\n",
    "      'target_dimensionalities': [64], # All should project to the same dimensionality now\n",
    "      'projection_folder': external_hard_drive_path + [configuration_name,'data','latent','pca projected'],\n",
    "      'file_name_prefix_to_factor_wise_label':  {f\"{m}{a}\" : [material_to_index[m], action_to_index[a]] for m in material_to_index.keys() for a in action_to_index.keys()}, # File names are of the form MA, where M is the material abbreviation and A the action abbreviation\n",
    "      'figure_folder':  external_hard_drive_path + [configuration_name,'figures']\n",
    "      }\n",
    "    },\n",
    "    {\n",
    "      'script' : 'explore_latent_yamnet',\n",
    "      'arguments' :\n",
    "      {\n",
    "      'pca_projected_folder': external_hard_drive_path + [configuration_name,'data','latent','pca projected'],\n",
    "      'layer_indices': layer_indices,\n",
    "      'random_seeds': [random_seed] * len(layer_indices),\n",
    "      'sample_sizes': [3000] * len(layer_indices),\n",
    "      'factor_name': 'Material',\n",
    "      'factor_index': 0,\n",
    "      'cross_validation_folds': 10,\n",
    "      'neighbor_count': 10,\n",
    "      'class_index_to_name': {value:key for key, value in material_to_index.items()},\n",
    "      'figure_folder':  external_hard_drive_path + [configuration_name,'figures']\n",
    "      }\n",
    "    },\n",
    "    {\n",
    "      'script' : 'explore_latent_yamnet',\n",
    "      'arguments' :\n",
    "      {\n",
    "      'pca_projected_folder': external_hard_drive_path + [configuration_name,'data','latent','pca projected'],\n",
    "      'layer_indices': layer_indices,\n",
    "      'random_seeds': [random_seed] * len(layer_indices),\n",
    "      'sample_sizes': [3000] * len(layer_indices),\n",
    "      'factor_name': 'Action',\n",
    "      'factor_index': 1,\n",
    "      'cross_validation_folds': 10,\n",
    "      'neighbor_count': 10,\n",
    "      'class_index_to_name': {value:key for key, value in action_to_index.items()},\n",
    "      'figure_folder':  external_hard_drive_path + [configuration_name,'figures']\n",
    "      }\n",
    "    },\n",
    "    {\n",
    "      'script' : 'disentangle',\n",
    "      'arguments' :\n",
    "      {\n",
    "      'random_seed': random_seed,\n",
    "      'stage_count': stage_count,\n",
    "      'batch_size': 1024,\n",
    "      'epoch_count': epoch_count,\n",
    "      'learning_rate': 0.001,\n",
    "      'validation_proportion': 0.3,\n",
    "      'dimensions_per_factor': [62,1,1], # In order of residual factor, material factor, action factor\n",
    "      'factor_index_to_included_class_indices': {0: list(material_to_index.values()), 1: list(action_to_index.values())},\n",
    "      'pca_projected_folder': external_hard_drive_path + [configuration_name,'data','latent','pca projected','Layer 8'],\n",
    "      'flow_model_folder': external_hard_drive_path + [configuration_name, str(random_seed), 'models','flow'],\n",
    "      'figure_folder':  external_hard_drive_path + [configuration_name, str(random_seed), 'figures']\n",
    "      }\n",
    "    },\n",
    "    {\n",
    "      'script' : 'evaluate_disentangle',\n",
    "      'arguments' :\n",
    "      {\n",
    "      'stage_count': stage_count,\n",
    "      'epoch_count': epoch_count,\n",
    "      'dimensions_per_factor': [62,1,1], # In order of residual factor, material factor, action factor\n",
    "      'random_seed': random_seed,\n",
    "      'validation_proportion': 0.3,\n",
    "      'factor_index_to_z_tilde_dimension': {0:62, 1:63},\n",
    "      'factor_index_to_y_dimension': {0:0, 1:1},\n",
    "      'factor_index_to_included_class_indices_to_names': {0: {value: key for key, value in material_to_index.items()}, 1: {value: key for key, value in action_to_index.items()}},\n",
    "      'factor_index_to_name': {0:'Material',1:'Action'},\n",
    "      'latent_representations_folder': external_hard_drive_path + [configuration_name,'data','latent','original','Layer 8'],\n",
    "      'layer_index': 8,\n",
    "      'pca_projected_folder': external_hard_drive_path + [configuration_name,'data','latent','pca projected','Layer 8'],\n",
    "      'PCA_and_standard_scaler_folder': external_hard_drive_path + [configuration_name,'models','pca and standard scalers','Layer 8'],\n",
    "      'flow_model_folder': external_hard_drive_path + [configuration_name,(str)(random_seed), 'models','flow'],\n",
    "      'figure_folder':  external_hard_drive_path + [configuration_name,(str)(random_seed), 'figures'],\n",
    "      'file_name_prefix_to_factor_wise_label':  {f\"{m}{a}\" : [material_to_index[m], action_to_index[a]] for m in material_to_index.keys() for a in action_to_index.keys()}, # File names are of the form MA, where M is the material abbreviation and A the action abbreviation\n",
    "      'swop_to_sample_size': {\"Material\": 96, \"Action\": 50, \"Material and Action\": 49} # This is the sample size used for a paired samples t-test in the latent transfer to compare Yamnet's output distances before and after transfer\n",
    "      }\n",
    "    }\n",
    "  ],\n",
    "}\n",
    "# Write configuration to file\n",
    "with open(os.path.join(*project_folder+['configurations', configuration['name'] + '.json']),'w') as f:\n",
    "  json.dump(configuration,f)"
   ]
  }
 ],
 "metadata": {
  "colab": {
   "provenance": []
  },
  "kernelspec": {
   "display_name": "latent_audio_env",
   "language": "python",
   "name": "python3"
  },
  "language_info": {
   "codemirror_mode": {
    "name": "ipython",
    "version": 3
   },
   "file_extension": ".py",
   "mimetype": "text/x-python",
   "name": "python",
   "nbconvert_exporter": "python",
   "pygments_lexer": "ipython3",
   "version": "3.9.23"
  }
 },
 "nbformat": 4,
 "nbformat_minor": 5
}
