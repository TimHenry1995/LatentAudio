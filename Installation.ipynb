{
  "cells": [
    {
      "cell_type": "markdown",
      "metadata": {
        "id": "1sKruXK9KKkP"
      },
      "source": [
        "# Installation"
      ]
    },
    {
      "cell_type": "markdown",
      "metadata": {
        "id": "NlmqgPnN9wmh"
      },
      "source": [
        "## System Requirements\n",
        "The code for this project has been run successfully on Windows, Intel-based Mac and Linux machines that are capable of running Python 3.9.x or 3.10.x with tensorflow 2.9.x. Tests on Apple Silicon were unsuccesful and users are thus encouraged to switch platform, e.g. to Google Colab."
      ]
    },
    {
      "cell_type": "markdown",
      "metadata": {
        "id": "ujaVbpXE-0N0"
      },
      "source": [
        "## Sandboxing\n",
        "Sandboxing is a useful tool if you want to encapsulate all project related installations in one place. Many programmers use conda environments for that purpose.\n",
        "- If you are working on your local machine (i.e. not Colab) you can install conda e.g. by downloading and installing the Anaconda desktop app. Assuming you now have conda, run the following code to create a new environment. The new environment will ensure the proper Python version and prevent dependecy conflicts with Python packages you might have previously installed."
      ]
    },
    {
      "cell_type": "code",
      "execution_count": null,
      "metadata": {
        "id": "_8FgVaS-a6Li"
      },
      "outputs": [],
      "source": [
        "# Windows, Intel-based Mac\n",
        "!conda create -n \"latent_audio_env\" python=3.9 ipython\n",
        "!conda activate latent_audio_env\n",
        "!python --version # Should be 3.9.x or 3.10.x"
      ]
    },
    {
      "cell_type": "markdown",
      "metadata": {
        "id": "WPMAzbGWa6U3"
      },
      "source": [
        "- Google Colab offers the same sandboxing behaviour as conda, since its runtimes are recycled after every session. In Colab, you thus just need to make sure to have a Python 3.9.x or 3.10.x version. Run the following line to check the version. If you are from the far future, chances are that you need to consult online resources to downgrade your Google Colab version to meet this requirement."
      ]
    },
    {
      "cell_type": "code",
      "execution_count": null,
      "metadata": {
        "id": "tSAL4FWUbMIx"
      },
      "outputs": [],
      "source": [
        "# Google Colab\n",
        "!python --version # Should be 3.9.x or 3.10.x"
      ]
    },
    {
      "cell_type": "markdown",
      "metadata": {
        "id": "qmsF6i_0DmVK"
      },
      "source": [
        "## Download Repository\n",
        "The project code and data is stored in the Github repository.\n",
        "- If you have already downloaded it e.g. via the Github desktop app or by downloading a zip version from the Github webpage, make sure you open the project folder LatentAudio in your code editor (e.g. Visual Studio Code). You can then already move to the installation step.\n",
        "- If you are running this notebook standalone, e.g. in Colab then use the following code to download and enter the repository (this will take 5-10 minutes)."
      ]
    },
    {
      "cell_type": "code",
      "execution_count": 3,
      "metadata": {
        "colab": {
          "base_uri": "https://localhost:8080/"
        },
        "id": "MSGvz-9ZUGAa",
        "outputId": "84880e05-c106-4d6e-f9c2-ea74bd1ba659"
      },
      "outputs": [
        {
          "name": "stdout",
          "output_type": "stream",
          "text": [
            "Cloning into 'LatentAudio'...\n",
            "remote: Enumerating objects: 61479, done.\u001b[K\n",
            "remote: Counting objects: 100% (1006/1006), done.\u001b[K\n",
            "remote: Compressing objects: 100% (589/589), done.\u001b[K\n",
            "remote: Total 61479 (delta 325), reused 997 (delta 322), pack-reused 60473\u001b[K\n",
            "Receiving objects: 100% (61479/61479), 3.94 GiB | 23.69 MiB/s, done.\n",
            "Resolving deltas: 100% (350/350), done.\n",
            "Updating files: 100% (120992/120992), done.\n"
          ]
        }
      ],
      "source": [
        "!git clone https://github.com/TimHenry1995/LatentAudio.git"
      ]
    },
    {
      "cell_type": "code",
      "execution_count": 2,
      "metadata": {
        "colab": {
          "base_uri": "https://localhost:8080/"
        },
        "id": "2rSQFBcgHvyg",
        "outputId": "68083bc0-cf17-40d8-a9db-a67744b6e093"
      },
      "outputs": [
        {
          "name": "stdout",
          "output_type": "stream",
          "text": [
            "/content/LatentAudio\n"
          ]
        }
      ],
      "source": [
        "%cd LatentAudio"
      ]
    },
    {
      "cell_type": "markdown",
      "metadata": {
        "id": "okA5KNMdVvjV"
      },
      "source": [
        "## Install Dependencies\n",
        "Now that you have satisfied the system requirements, you should be able to install all required python packages with the below code.\n",
        "- On your personal Windows or Intel-based Apple computer, simply run the below line. It should finish by stating that you have successfully installed latent audio. Then restart your notebook kernel, the code editor or even the entire computer to ensure the new packages are accesible."
      ]
    },
    {
      "cell_type": "code",
      "execution_count": null,
      "metadata": {
        "id": "fDSR34AZIAbC"
      },
      "outputs": [],
      "source": [
        "# On Windows or Intel-based Mac\n",
        "%pip install ."
      ]
    },
    {
      "cell_type": "markdown",
      "metadata": {
        "id": "nYEbRsek8SQJ"
      },
      "source": [
        "- In Google Colab, you should also be able to install the required Python packages. However, note that Colab will likely have a newer version of tensorflow installed which does not offer the functionality needed for the current project. Hence, execute the below code once. If you get an error on pip version conflicts, restart the session (not the runtime) and continue with the next cell to reassure yourself that all installation requriements are satisfied. You should see at the bottom of the output that latent audio has been installed successfully."
      ]
    },
    {
      "cell_type": "code",
      "execution_count": null,
      "metadata": {
        "id": "zFbPrsLthsK1"
      },
      "outputs": [],
      "source": [
        "# In Colab, before session restart\n",
        "%pip install ."
      ]
    },
    {
      "cell_type": "code",
      "execution_count": null,
      "metadata": {
        "colab": {
          "base_uri": "https://localhost:8080/"
        },
        "id": "LEHaABRaWQNV",
        "outputId": "aeb6a416-fc72-427b-c094-ee9af9c63acd"
      },
      "outputs": [
        {
          "name": "stdout",
          "output_type": "stream",
          "text": [
            "/content/LatentAudio\n"
          ]
        }
      ],
      "source": [
        "# In Colab, after session restart\n",
        "%cd LatentAudio\n",
        "%pip install ."
      ]
    },
    {
      "cell_type": "markdown",
      "metadata": {
        "id": "s17TFw2ZKSlb"
      },
      "source": [
        "##Further Directions\n",
        "Congratulations! You have now successfully installed all dependencies of this project.\n",
        "- If you are interested in verifying or adjsuting the preprocesssing that converts the data set from its waveform audio to its latent Yament representation, then continue with the Preprocess.ipynb notebook.\n",
        "- If you are interested in verifying or adjusting the actual processing that explores, disentangles and manipulates the latent space of Yamnet, then continue with the Process.ipynb notebook."
      ]
    }
  ],
  "metadata": {
    "colab": {
      "provenance": [],
      "toc_visible": true
    },
    "kernelspec": {
      "display_name": "Python 3",
      "name": "python3"
    },
    "language_info": {
      "codemirror_mode": {
        "name": "ipython",
        "version": 3
      },
      "file_extension": ".py",
      "mimetype": "text/x-python",
      "name": "python",
      "nbconvert_exporter": "python",
      "pygments_lexer": "ipython3",
      "version": "3.9.19"
    }
  },
  "nbformat": 4,
  "nbformat_minor": 0
}
